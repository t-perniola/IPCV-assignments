{
  "cells": [
    {
      "cell_type": "markdown",
      "metadata": {
        "id": "view-in-github",
        "colab_type": "text"
      },
      "source": [
        "<a href=\"https://colab.research.google.com/github/t-perniola/IPCV-assignments/blob/main/assignment_module_2.ipynb\" target=\"_parent\"><img src=\"https://colab.research.google.com/assets/colab-badge.svg\" alt=\"Open In Colab\"/></a>"
      ]
    },
    {
      "cell_type": "markdown",
      "metadata": {
        "id": "MNBgGYg_lpVN"
      },
      "source": [
        "# Assignment Module 2: Product Classification\n",
        "\n",
        "The goal of this assignment is to implement a neural network that classifies smartphone pictures of products found in grocery stores. The assignment will be divided into two parts: first, you will be asked to implement from scratch your own neural network for image classification; then, you will fine-tune a pretrained network provided by PyTorch.\n"
      ]
    },
    {
      "cell_type": "markdown",
      "metadata": {
        "id": "dVTQUJ4uYH1w"
      },
      "source": [
        "## Preliminaries: the dataset\n",
        "\n",
        "The dataset you will be using contains natural images of products taken with a smartphone camera in different grocery stores:\n",
        "\n",
        "<p align=\"center\">\n",
        "  <img src=\"https://github.com/marcusklasson/GroceryStoreDataset/raw/master/sample_images/natural/Granny-Smith.jpg\" width=\"150\">\n",
        "  <img src=\"https://github.com/marcusklasson/GroceryStoreDataset/raw/master/sample_images/natural/Pink-Lady.jpg\" width=\"150\">\n",
        "  <img src=\"https://github.com/marcusklasson/GroceryStoreDataset/raw/master/sample_images/natural/Lemon.jpg\" width=\"150\">\n",
        "  <img src=\"https://github.com/marcusklasson/GroceryStoreDataset/raw/master/sample_images/natural/Banana.jpg\" width=\"150\">\n",
        "  <img src=\"https://github.com/marcusklasson/GroceryStoreDataset/raw/master/sample_images/natural/Vine-Tomato.jpg\" width=\"150\">\n",
        "</p>\n",
        "<p align=\"center\">\n",
        "  <img src=\"https://github.com/marcusklasson/GroceryStoreDataset/raw/master/sample_images/natural/Yellow-Onion.jpg\" width=\"150\">\n",
        "  <img src=\"https://github.com/marcusklasson/GroceryStoreDataset/raw/master/sample_images/natural/Green-Bell-Pepper.jpg\" width=\"150\">\n",
        "  <img src=\"https://github.com/marcusklasson/GroceryStoreDataset/raw/master/sample_images/natural/Arla-Standard-Milk.jpg\" width=\"150\">\n",
        "  <img src=\"https://github.com/marcusklasson/GroceryStoreDataset/raw/master/sample_images/natural/Oatly-Natural-Oatghurt.jpg\" width=\"150\">\n",
        "  <img src=\"https://github.com/marcusklasson/GroceryStoreDataset/raw/master/sample_images/natural/Alpro-Fresh-Soy-Milk.jpg\" width=\"150\">\n",
        "</p>\n",
        "\n",
        "The products belong to the following 43 classes:\n",
        "```\n",
        "0.  Apple\n",
        "1.  Avocado\n",
        "2.  Banana\n",
        "3.  Kiwi\n",
        "4.  Lemon\n",
        "5.  Lime\n",
        "6.  Mango\n",
        "7.  Melon\n",
        "8.  Nectarine\n",
        "9.  Orange\n",
        "10. Papaya\n",
        "11. Passion-Fruit\n",
        "12. Peach\n",
        "13. Pear\n",
        "14. Pineapple\n",
        "15. Plum\n",
        "16. Pomegranate\n",
        "17. Red-Grapefruit\n",
        "18. Satsumas\n",
        "19. Juice\n",
        "20. Milk\n",
        "21. Oatghurt\n",
        "22. Oat-Milk\n",
        "23. Sour-Cream\n",
        "24. Sour-Milk\n",
        "25. Soyghurt\n",
        "26. Soy-Milk\n",
        "27. Yoghurt\n",
        "28. Asparagus\n",
        "29. Aubergine\n",
        "30. Cabbage\n",
        "31. Carrots\n",
        "32. Cucumber\n",
        "33. Garlic\n",
        "34. Ginger\n",
        "35. Leek\n",
        "36. Mushroom\n",
        "37. Onion\n",
        "38. Pepper\n",
        "39. Potato\n",
        "40. Red-Beet\n",
        "41. Tomato\n",
        "42. Zucchini\n",
        "```\n",
        "\n",
        "The dataset is split into training (`train`), validation (`val`), and test (`test`) set."
      ]
    },
    {
      "cell_type": "markdown",
      "metadata": {
        "id": "1pdrmJRnJPd8"
      },
      "source": [
        "The following code cells download the dataset and define a `torch.utils.data.Dataset` class to access it. This `Dataset` class will be the starting point of your assignment: use it in your own code and build everything else around it."
      ]
    },
    {
      "cell_type": "code",
      "execution_count": null,
      "metadata": {
        "id": "POMX_3x-_bZI",
        "colab": {
          "base_uri": "https://localhost:8080/"
        },
        "outputId": "00328399-7089-488a-c945-4540bad331f7"
      },
      "outputs": [
        {
          "output_type": "stream",
          "name": "stdout",
          "text": [
            "fatal: destination path 'GroceryStoreDataset' already exists and is not an empty directory.\n"
          ]
        }
      ],
      "source": [
        "!git clone https://github.com/marcusklasson/GroceryStoreDataset.git"
      ]
    },
    {
      "cell_type": "code",
      "execution_count": null,
      "metadata": {
        "id": "hiF8xGEYlsu8"
      },
      "outputs": [],
      "source": [
        "from pathlib import Path\n",
        "from PIL import Image\n",
        "from torch import Tensor\n",
        "from torch.utils.data import Dataset\n",
        "from typing import List, Tuple"
      ]
    },
    {
      "cell_type": "code",
      "execution_count": null,
      "metadata": {
        "id": "jROSO2qVDxdD"
      },
      "outputs": [],
      "source": [
        "class GroceryStoreDataset(Dataset):\n",
        "\n",
        "    def __init__(self, split: str, transform=None) -> None:\n",
        "        super().__init__()\n",
        "\n",
        "        self.root = Path(\"GroceryStoreDataset/dataset\")\n",
        "        self.split = split\n",
        "        self.paths, self.labels = self.read_file()\n",
        "\n",
        "        self.transform = transform\n",
        "\n",
        "    def __len__(self) -> int:\n",
        "        return len(self.labels)\n",
        "\n",
        "    def __getitem__(self, idx) -> Tuple[Tensor, int]:\n",
        "        img = Image.open(self.root / self.paths[idx])\n",
        "        label = self.labels[idx]\n",
        "\n",
        "        if self.transform:\n",
        "            img = self.transform(img)\n",
        "\n",
        "        return img, label\n",
        "\n",
        "    def read_file(self) -> Tuple[List[str], List[int]]:\n",
        "        paths = []\n",
        "        labels = []\n",
        "        with open(self.root / f\"{self.split}.txt\") as f:\n",
        "            for line in f:\n",
        "                path, _, label = line.replace(\"\\n\", \"\").split(\", \")\n",
        "                paths.append(path), labels.append(int(label))\n",
        "\n",
        "        return paths, labels\n",
        "\n",
        "    def get_num_classes(self) -> int:\n",
        "        return max(self.labels) + 1"
      ]
    },
    {
      "cell_type": "markdown",
      "metadata": {
        "id": "yBch3dpwNSsW"
      },
      "source": [
        "## Part 1: design your own network\n",
        "\n",
        "Your goal is to implement a convolutional neural network for image classification and train it on `GroceryStoreDataset`. You should consider yourselves satisfied once you obtain a classification accuracy on the **validation** split of **around 60%**. You are free to achieve that however you want, except for a few rules you must follow:\n",
        "\n",
        "- You **cannot** simply instantiate an off-the-self PyTorch network. Instead, you must construct your network as a composition of existing PyTorch layers. In more concrete terms, you can use e.g. `torch.nn.Linear`, but you **cannot** use e.g. `torchvision.models.alexnet`.\n",
        "\n",
        "- Justify every *design choice* you make. Design choices include network architecture, training hyperparameters, and, possibly, dataset preprocessing steps. You can either (i) start from the simplest convolutional network you can think of and add complexity one step at a time, while showing how each step gets you closer to the target ~60%, or (ii) start from a model that is already able to achieve the desired accuracy and show how, by removing some of its components, its performance drops (i.e. an *ablation study*). You can *show* your results/improvements however you want: training plots, console-printed values or tables, or whatever else your heart desires: the clearer, the better.\n",
        "\n",
        "Don't be too concerned with your network performance: the ~60% is just to give you an idea of when to stop. Keep in mind that a thoroughly justified model with lower accuracy will be rewarded **more** points than a poorly experimentally validated model with higher accuracy."
      ]
    },
    {
      "cell_type": "code",
      "source": [
        "import random\n",
        "import time\n",
        "\n",
        "import matplotlib.pyplot as plt\n",
        "import numpy as np\n",
        "import pandas as pd\n",
        "import seaborn as sn\n",
        "import copy\n",
        "\n",
        "\n",
        "\n",
        "import torch\n",
        "import torch.nn as nn\n",
        "import torch.nn.functional as F\n",
        "\n",
        "from torchsummary import summary\n",
        "from tqdm.notebook import tqdm\n",
        "from torch.optim import AdamW\n",
        "import torch.optim as optim\n",
        "from torch.utils.data import random_split, DataLoader, ConcatDataset\n",
        "from torchvision import transforms as T, datasets\n",
        "from torch.optim.lr_scheduler import OneCycleLR"
      ],
      "metadata": {
        "id": "WeKoCKdJIvm4"
      },
      "execution_count": 56,
      "outputs": []
    },
    {
      "cell_type": "code",
      "execution_count": null,
      "metadata": {
        "id": "Y-W74ruyGc6H"
      },
      "outputs": [],
      "source": [
        "# For repeatability\n",
        "def fix_random(seed: int) -> None:\n",
        "\n",
        "    np.random.seed(seed)\n",
        "    random.seed(seed)\n",
        "    torch.manual_seed(seed)\n",
        "    torch.cuda.manual_seed(seed)\n",
        "\n",
        "    torch.backends.cudnn.benchmark = False\n",
        "    torch.backends.cudnn.deterministic = True\n",
        "\n",
        "fix_random(42)"
      ]
    },
    {
      "cell_type": "markdown",
      "source": [
        "###GPU Support"
      ],
      "metadata": {
        "id": "uye40XKWJlIo"
      }
    },
    {
      "cell_type": "code",
      "source": [
        "gpu_avail = torch.cuda.is_available()\n",
        "print(f\"Is the GPU available? {gpu_avail}\")"
      ],
      "metadata": {
        "colab": {
          "base_uri": "https://localhost:8080/"
        },
        "id": "xsngH6MpJoY_",
        "outputId": "94193029-4b51-46b4-cd21-03f471d73329"
      },
      "execution_count": null,
      "outputs": [
        {
          "output_type": "stream",
          "name": "stdout",
          "text": [
            "Is the GPU available? False\n"
          ]
        }
      ]
    },
    {
      "cell_type": "code",
      "source": [
        "device = torch.device(\"cuda\") if torch.cuda.is_available() else torch.device(\"cpu\")\n",
        "print(f\"Device: {device}\")"
      ],
      "metadata": {
        "colab": {
          "base_uri": "https://localhost:8080/"
        },
        "id": "JcmyYNQOJuDX",
        "outputId": "f322b3e5-3cb7-4d30-a699-5cdf0f68383e"
      },
      "execution_count": null,
      "outputs": [
        {
          "output_type": "stream",
          "name": "stdout",
          "text": [
            "Device: cpu\n"
          ]
        }
      ]
    },
    {
      "cell_type": "markdown",
      "source": [
        "#DATA"
      ],
      "metadata": {
        "id": "7EbM7rJWKcfs"
      }
    },
    {
      "cell_type": "markdown",
      "source": [
        "##Data exploration"
      ],
      "metadata": {
        "id": "uYgBxzUV721y"
      }
    },
    {
      "cell_type": "code",
      "source": [
        "train_data = GroceryStoreDataset(split=\"train\")\n",
        "unique_train_classes, per_train_class_count = np.unique(train_data.labels, return_counts=True)\n",
        "plt.title(\"Train set distribution\")\n",
        "plt.bar(unique_train_classes, per_train_class_count)\n",
        "plt.show()"
      ],
      "metadata": {
        "colab": {
          "base_uri": "https://localhost:8080/",
          "height": 452
        },
        "id": "JHo_5IME9XL_",
        "outputId": "3f04f951-5171-4b38-e6b4-5b2e400b9c21"
      },
      "execution_count": null,
      "outputs": [
        {
          "output_type": "display_data",
          "data": {
            "text/plain": [
              "<Figure size 640x480 with 1 Axes>"
            ],
            "image/png": "[encoded data removed]"
          },
          "metadata": {}
        }
      ]
    },
    {
      "cell_type": "code",
      "source": [
        "val_data = GroceryStoreDataset(split=\"val\")\n",
        "unique_val_classes, per_val_class_count = np.unique(val_data.labels, return_counts=True)\n",
        "plt.title(\"Validation set distribution\")\n",
        "plt.bar(unique_val_classes, per_val_class_count)\n",
        "plt.show()"
      ],
      "metadata": {
        "colab": {
          "base_uri": "https://localhost:8080/",
          "height": 452
        },
        "id": "UhAA4l9m941x",
        "outputId": "759af567-191a-4094-a2e5-ba2057494793"
      },
      "execution_count": null,
      "outputs": [
        {
          "output_type": "display_data",
          "data": {
            "text/plain": [
              "<Figure size 640x480 with 1 Axes>"
            ],
            "image/png": "[encoded data removed]"
          },
          "metadata": {}
        }
      ]
    },
    {
      "cell_type": "markdown",
      "source": [
        "##Data Loading and preprocessing"
      ],
      "metadata": {
        "id": "j8mkwH7pJ0EG"
      }
    },
    {
      "cell_type": "code",
      "source": [
        "print(f'The number of classes is = {train_data.get_num_classes()}')\n",
        "NUM_CLASSES = train_data.get_num_classes()"
      ],
      "metadata": {
        "colab": {
          "base_uri": "https://localhost:8080/"
        },
        "id": "u-GdV3oY-BB7",
        "outputId": "fd74c5eb-6fb4-4524-83f1-4b5026b17fc1"
      },
      "execution_count": null,
      "outputs": [
        {
          "output_type": "stream",
          "name": "stdout",
          "text": [
            "The number of classes is = 43\n"
          ]
        }
      ]
    },
    {
      "cell_type": "code",
      "source": [
        "INPUT_WIDTH = 256\n",
        "INPUT_HEIGHT = 256\n",
        "\n",
        "tsfms = T.Compose([\n",
        "    T.Resize((INPUT_HEIGHT, INPUT_WIDTH)),\n",
        "    T.ToTensor(),\n",
        "])\n",
        "\n",
        "train_dset = GroceryStoreDataset(split=\"train\", transform=tsfms)\n",
        "test_dset = GroceryStoreDataset(split=\"test\", transform=tsfms)\n",
        "val_dset = GroceryStoreDataset(split=\"val\", transform=tsfms)"
      ],
      "metadata": {
        "id": "RgntSMVdIG9m"
      },
      "execution_count": null,
      "outputs": []
    },
    {
      "cell_type": "code",
      "source": [
        "_, ax = plt.subplots(1, 4)\n",
        "\n",
        "for i, idx in enumerate([0, 300, 500, 900]):\n",
        "    img, label = test_dset[idx]\n",
        "    ax[i].imshow(img.reshape(3, 256, 256).permute(1, 2, 0))\n",
        "    ax[i].set_title(label)\n",
        "    ax[i].axis(\"off\")"
      ],
      "metadata": {
        "colab": {
          "base_uri": "https://localhost:8080/",
          "height": 167
        },
        "id": "s9ZRgh1p6VOU",
        "outputId": "066e3cf5-8610-449b-8a6e-46cb2c72cb7b"
      },
      "execution_count": null,
      "outputs": [
        {
          "output_type": "display_data",
          "data": {
            "text/plain": [
              "<Figure size 640x480 with 4 Axes>"
            ],
            "image/png": "[encoded data removed]"
          },
          "metadata": {}
        }
      ]
    },
    {
      "cell_type": "code",
      "source": [
        "print(f'Train dataset has {len(train_dset)} elements')\n",
        "print(f'Validation dataset has {len(val_dset)} elements')\n",
        "print(f'Test dataset has {len(test_dset)} elements')"
      ],
      "metadata": {
        "colab": {
          "base_uri": "https://localhost:8080/"
        },
        "id": "Tj9XTbJ_HGNs",
        "outputId": "f5a364c2-b1fc-4a38-8c3a-263b8cc639e8"
      },
      "execution_count": null,
      "outputs": [
        {
          "output_type": "stream",
          "name": "stdout",
          "text": [
            "Train dataset has 2640 elements\n",
            "Validation dataset has 296 elements\n",
            "Test dataset has 2485 elements\n"
          ]
        }
      ]
    },
    {
      "cell_type": "markdown",
      "source": [
        "###Augmentation"
      ],
      "metadata": {
        "id": "EmBgKycwI9yG"
      }
    },
    {
      "cell_type": "code",
      "source": [
        "augmentation_transforms = [T.Compose([\n",
        "    T.RandomHorizontalFlip(),\n",
        "    T.RandomVerticalFlip(p=0.2),\n",
        "    T.RandomRotation(10),\n",
        "    T.RandomResizedCrop((INPUT_HEIGHT, INPUT_WIDTH), scale=(0.8, 1.0)),\n",
        "    T.ColorJitter(brightness=0.2, contrast=0.2, saturation=0.2, hue=0.1),\n",
        "    T.RandomGrayscale(p=0.1),\n",
        "    T.GaussianBlur(kernel_size=(5, 9), sigma=(0.1, 5)),\n",
        "    T.ToTensor(),\n",
        "    T.Normalize(mean=[0.485, 0.456, 0.406], std=[0.229, 0.224, 0.225])\n",
        "])]\n",
        "\n",
        "\n",
        "augmented_train_dset = GroceryStoreDataset(split=\"train\", transform=augmentation_transforms)\n",
        "train_dset = ConcatDataset([train_dset, augmented_train_dset])\n",
        "print(f'Train dataset size after augmentation: {len(train_dset)}')\n",
        "torch.save(train_dset, 'train_dset.pt')\n"
      ],
      "metadata": {
        "colab": {
          "base_uri": "https://localhost:8080/"
        },
        "id": "V_cs8RRtJVbk",
        "outputId": "c906daa4-29e4-4c57-ec57-51ed5dd654cd"
      },
      "execution_count": null,
      "outputs": [
        {
          "output_type": "stream",
          "name": "stdout",
          "text": [
            "Train dataset size after augmentation: 5280\n"
          ]
        }
      ]
    },
    {
      "cell_type": "markdown",
      "source": [
        "###Rebalancing"
      ],
      "metadata": {
        "id": "fAWjmsD8JTXv"
      }
    },
    {
      "cell_type": "code",
      "source": [
        "class GroceryStoreDatasetFilteredByLabel(GroceryStoreDataset):\n",
        "    def __init__(self, split: str, transform=None, label=None) -> None:\n",
        "        super().__init__(split, transform)\n",
        "\n",
        "        # Keep only the images with the specified label\n",
        "        self.paths = [p for i, p in enumerate(self.paths) if self.labels[i] == label]\n",
        "        self.labels = [label] * len(self.paths)\n",
        "\n",
        "def balanceDataset(split):\n",
        "    # Initial dataset\n",
        "    balanced_dset = GroceryStoreDataset(split=split, transform=tsfms)\n",
        "\n",
        "    # Count the number of samples in each class\n",
        "    balanced_count = [balanced_dset.labels.count(i) for i in range(NUM_CLASSES)]\n",
        "    biggest_class_size = np.max(balanced_count)\n",
        "\n",
        "    # List to hold all datasets\n",
        "    datasets = [balanced_dset]\n",
        "\n",
        "    for i in range(NUM_CLASSES):\n",
        "        size_label_i = balanced_count[i]\n",
        "\n",
        "        # Calculate the factor by which we need to augment the dataset for this label\n",
        "        increase_factor = round(biggest_class_size / size_label_i)\n",
        "\n",
        "        for j in range(increase_factor - 1):  # -1 because the original dataset is already included\n",
        "            augmented_i = GroceryStoreDatasetFilteredByLabel(\n",
        "                split=split,\n",
        "                transform=augmentation_transforms[j % len(augmentation_transforms)],  # Cycle through available augmentations\n",
        "                label=i\n",
        "            )\n",
        "            datasets.append(augmented_i)  # Add augmented dataset to the list\n",
        "            balanced_count[i] += len(augmented_i)  # Update the count for the current label\n",
        "\n",
        "    # Concatenate all datasets\n",
        "    balanced_dset = ConcatDataset(datasets)\n",
        "\n",
        "    return balanced_dset, balanced_count\n",
        "\n",
        "\n",
        "train_dset, balanced_count = balanceDataset(\"train\")\n",
        "plt.title(\"Rebalanced train set distribution\")\n",
        "plt.bar(range(NUM_CLASSES), balanced_count)\n",
        "plt.show()"
      ],
      "metadata": {
        "colab": {
          "base_uri": "https://localhost:8080/",
          "height": 452
        },
        "id": "Vvpvf_ZvI2sA",
        "outputId": "d3ccf077-3c68-403a-ea7a-7fd7272a515b"
      },
      "execution_count": null,
      "outputs": [
        {
          "output_type": "display_data",
          "data": {
            "text/plain": [
              "<Figure size 640x480 with 1 Axes>"
            ],
            "image/png": "[encoded data removed]"
          },
          "metadata": {}
        }
      ]
    },
    {
      "cell_type": "code",
      "source": [
        "print(f'Train dataset size after rebalancing: {len(train_dset)}')"
      ],
      "metadata": {
        "colab": {
          "base_uri": "https://localhost:8080/"
        },
        "id": "sazgkD2dWxUW",
        "outputId": "288889ac-eaf7-47a4-faec-91f2fd9134fb"
      },
      "execution_count": null,
      "outputs": [
        {
          "output_type": "stream",
          "name": "stdout",
          "text": [
            "Train dataset size after rebalancing: 12056\n"
          ]
        }
      ]
    },
    {
      "cell_type": "markdown",
      "source": [
        "##Utility function"
      ],
      "metadata": {
        "id": "zCGX9dzrXwfE"
      }
    },
    {
      "cell_type": "markdown",
      "source": [
        "###Train loop"
      ],
      "metadata": {
        "id": "aNdAYmwUX71C"
      }
    },
    {
      "cell_type": "code",
      "source": [
        "class Trainer:\n",
        "    def __init__(self,\n",
        "            model: nn.Module,\n",
        "            train_loader: DataLoader,\n",
        "            val_loader: DataLoader,\n",
        "            device: torch.device,\n",
        "            num_classes: int\n",
        "        ) -> None:\n",
        "        self.train_loader = train_loader\n",
        "        self.val_loader = val_loader\n",
        "        self.device = device\n",
        "        self.num_classes = num_classes\n",
        "        self.num_epochs = cfg[\"num_epochs\"]\n",
        "\n",
        "        self.model = model.to(device)\n",
        "        self.optimizer = AdamW(self.model.parameters(), lr=cfg[\"lr\"], weight_decay=cfg[\"wd\"])\n",
        "        num_steps = self.num_epochs * len(train_loader)\n",
        "        self.scheduler = OneCycleLR(self.optimizer, cfg[\"lr\"], total_steps=num_steps)\n",
        "\n",
        "        self.step = 0\n",
        "        self.best_acc = 0.0\n",
        "        self.best_model_path = \"best_model.pth\"\n",
        "\n",
        "    def train(self, verbose=False):\n",
        "        best_val_acc = 0\n",
        "        best_params = []\n",
        "        best_epoch = -1\n",
        "        for e in tqdm(range(self.num_epochs), desc=\"Epoch\"):\n",
        "            self.model.train() # modalità train\n",
        "\n",
        "            for imgs, labels in self.train_loader:\n",
        "                imgs = imgs.to(self.device)\n",
        "                labels = labels.to(self.device)\n",
        "\n",
        "                pred = self.model(imgs)\n",
        "                loss = F.cross_entropy(pred, labels)\n",
        "\n",
        "                self.optimizer.zero_grad()\n",
        "                loss.backward()\n",
        "                self.optimizer.step()\n",
        "                self.scheduler.step() # Aggiorna lo scheduler del learning rate.\n",
        "\n",
        "                self.step += 1\n",
        "\n",
        "            train_loss, train_acc = self.evaluate(self.train_loader)\n",
        "            val_loss, val_acc = self.evaluate(self.val_loader)\n",
        "\n",
        "            if verbose:\n",
        "                print(f\"Epoch {e}: train loss {train_loss:.3f} - train acc {train_acc:.3f}\" + (\"\" if self.val_loader is None else f\" - valid loss {val_loss:.3f} - valid acc {val_acc:.3f}\"))\n",
        "\n",
        "            if val_acc > best_val_acc:\n",
        "                best_val_acc = val_acc\n",
        "                best_params = copy.deepcopy(self.model.state_dict())\n",
        "                best_epoch = e\n",
        "                torch.save(best_params, self.best_model_path)\n",
        "\n",
        "        return best_val_acc, best_params, best_epoch\n",
        "\n",
        "    @torch.no_grad()\n",
        "    def evaluate(self, data_loader: DataLoader) -> Tuple[float, float]:\n",
        "        self.model.eval()\n",
        "\n",
        "        acc = Accuracy(\"multiclass\", num_classes=self.num_classes).to(self.device)\n",
        "\n",
        "        losses = []\n",
        "        for imgs, labels in data_loader:\n",
        "            imgs = imgs.to(self.device)\n",
        "            labels = labels.to(self.device)\n",
        "\n",
        "            pred = self.model(imgs)\n",
        "            loss = F.cross_entropy(pred, labels)\n",
        "            losses.append(loss.item())\n",
        "\n",
        "            pred_softmax = F.softmax(pred, dim=-1)\n",
        "            acc(pred_softmax, labels)\n",
        "\n",
        "        loss = sum(losses) / len(losses)\n",
        "        accuracy = acc.compute()\n",
        "\n",
        "        return loss, accuracy\n"
      ],
      "metadata": {
        "id": "XRpz0vBGWzit"
      },
      "execution_count": 44,
      "outputs": []
    },
    {
      "cell_type": "markdown",
      "source": [
        "###Evaluate_model\n",
        "This function will compute the confusion matrix, calculate accuracy, and plot the confusion matrix as a heatmap."
      ],
      "metadata": {
        "id": "Y6eOMYFneOFp"
      }
    },
    {
      "cell_type": "code",
      "source": [
        "def evaluate_model(model, test_dl, device, n_classes):\n",
        "\n",
        "    # Set model to evaluation mode\n",
        "    model.eval()\n",
        "\n",
        "    # Initialize confusion matrix\n",
        "    confusion_matrix = torch.zeros(n_classes, n_classes, dtype=torch.int)\n",
        "\n",
        "    # Evaluate model without gradient calculation\n",
        "    with torch.no_grad():\n",
        "        for test_data in test_dl:\n",
        "            imgs, labels = test_data\n",
        "            imgs = imgs.to(device)\n",
        "            labels = labels.to(device)\n",
        "\n",
        "            # Forward pass\n",
        "            scores = model(imgs)\n",
        "            preds = torch.argmax(scores, -1)\n",
        "\n",
        "            # Update confusion matrix\n",
        "            for lbl, pred in zip(labels.view(-1), preds.view(-1)):\n",
        "                confusion_matrix[lbl.int(), pred.int()] += 1\n",
        "\n",
        "    # Calculate accuracy\n",
        "    test_acc = (torch.diagonal(confusion_matrix).sum() / confusion_matrix.sum()).item()\n",
        "\n",
        "    # Print accuracy\n",
        "    print(f\"Test Accuracy: {test_acc:.4f}\")\n",
        "\n",
        "    # Plot confusion matrix\n",
        "    plt.figure(figsize=(15, 10))\n",
        "    conf_mtrx_df = pd.DataFrame(confusion_matrix.numpy(),\n",
        "                                index=[f'Class {i}' for i in range(n_classes)],\n",
        "                                columns=[f'Class {i}' for i in range(n_classes)])\n",
        "    sn.heatmap(conf_mtrx_df, annot=True, fmt=\"d\", cmap=\"Blues\")\n",
        "    plt.title(\"Confusion Matrix\")\n",
        "    plt.show()\n",
        "\n",
        "    return test_acc\n"
      ],
      "metadata": {
        "id": "f3o1MNnLeT50"
      },
      "execution_count": 46,
      "outputs": []
    },
    {
      "cell_type": "markdown",
      "source": [
        "#Create the Network"
      ],
      "metadata": {
        "id": "yxAceXOuwV78"
      }
    },
    {
      "cell_type": "code",
      "source": [
        "class ConvBlock(nn.Module):\n",
        "    def __init__(self, kernel_size, in_channels, out_channels, activation_fn, use_batch_norm=True, use_skip=True):\n",
        "        super(ConvBlock, self).__init__()\n",
        "\n",
        "        # Memorizza i parametri\n",
        "        self.use_skip = use_skip\n",
        "        self.activation = activation_fn()\n",
        "\n",
        "        # Componente del blocco di convoluzione\n",
        "        layers = [\n",
        "            nn.Conv2d(in_channels, out_channels, kernel_size=kernel_size, stride=2, padding='valid'),\n",
        "            nn.BatchNorm2d(out_channels) if use_batch_norm else nn.Identity(),\n",
        "            self.activation,\n",
        "            nn.Conv2d(out_channels, out_channels, kernel_size=kernel_size, stride=1, padding='same'),\n",
        "            nn.BatchNorm2d(out_channels) if use_batch_norm else nn.Identity()\n",
        "        ]\n",
        "\n",
        "        # Creazione del blocco di convoluzione come sequenza di layer\n",
        "        self.conv_block = nn.Sequential(*layers)\n",
        "\n",
        "        # Opzionale: blocco di skip connection\n",
        "        if use_skip:\n",
        "            self.skip_connection = nn.Conv2d(in_channels, out_channels, kernel_size=3, stride=2, padding='valid')\n",
        "        else:\n",
        "            self.skip_connection = None\n",
        "\n",
        "    def forward(self, x):\n",
        "        # Passa attraverso il blocco di convoluzione\n",
        "        x_out = self.conv_block(x)\n",
        "\n",
        "        # Gestisce la connessione di skip, se presente\n",
        "        if self.skip_connection is not None:\n",
        "            # Calcola la connessione di skip e la adatta alla dimensione dell'output\n",
        "            x_skip = self.skip_connection(x)\n",
        "            # Assicura che la dimensione del skip connection sia compatibile\n",
        "            if x_out.shape != x_skip.shape:\n",
        "                x_skip = F.interpolate(x_skip, size=x_out.shape[2:], mode='bilinear', align_corners=False)\n",
        "            x_out += x_skip\n",
        "\n",
        "        return self.activation(x_out)\n"
      ],
      "metadata": {
        "id": "eYsOd8ofwLDh"
      },
      "execution_count": null,
      "outputs": []
    },
    {
      "cell_type": "code",
      "source": [
        "class GroceryModelModular(nn.Module):\n",
        "    def __init__(self, stem_block, conv_block, linear_block):\n",
        "        super().__init__()\n",
        "        self.stem_block = nn.Sequential(*stem_block)\n",
        "        self.conv_block = nn.Sequential(*conv_block)\n",
        "        self.linear_block = nn.Sequential(*linear_block)\n",
        "\n",
        "    def forward(self, x):\n",
        "        x = self.stem_block(x)\n",
        "        x = self.conv_block(x)\n",
        "        # Before flattening the tensor, to further reduce the parameters\n",
        "        # we use adaptive average pooling\n",
        "        x = F.adaptive_avg_pool2d(x, (1, 1))\n",
        "        x = torch.flatten(x, 1)\n",
        "        x = self.linear_block(x)\n",
        "        return x"
      ],
      "metadata": {
        "id": "iLPv6RnWwTdD"
      },
      "execution_count": null,
      "outputs": []
    },
    {
      "cell_type": "code",
      "source": [
        "class GroceryModelFull(GroceryModelModular):\n",
        "    def __init__(self, n_classes):\n",
        "        super(GroceryModelFull, self).__init__(\n",
        "            stem_block = [\n",
        "                nn.Conv2d(in_channels=3, out_channels=24, kernel_size=5, stride=2, padding='valid'),\n",
        "                nn.BatchNorm2d(24),\n",
        "                nn.ReLU(inplace=True),\n",
        "                nn.Conv2d(in_channels=24, out_channels=32, kernel_size=5, stride=2, padding='valid'),\n",
        "                nn.BatchNorm2d(32),\n",
        "                nn.ReLU(inplace=True)\n",
        "            ],\n",
        "            conv_block = [\n",
        "                ConvBlock(kernel_size=3, in_channels=32, out_channels=48, activation_fn=nn.ReLU),\n",
        "                ConvBlock(kernel_size=3, in_channels=48, out_channels=72, activation_fn=nn.ReLU)\n",
        "            ],\n",
        "            linear_block = [\n",
        "                nn.Linear(72, 256),\n",
        "                nn.BatchNorm1d(256),\n",
        "                nn.ReLU(inplace=True),\n",
        "                nn.Dropout(p=0.5),\n",
        "                nn.Linear(256, n_classes)\n",
        "            ]\n",
        "        )\n",
        "\n",
        "    def _initialize_weights(self):\n",
        "        for m in self.modules():\n",
        "            if isinstance(m, nn.Conv2d):\n",
        "                nn.init.kaiming_uniform_(m.weight, a=0.1)\n",
        "                if m.bias is not None:\n",
        "                    nn.init.zeros_(m.bias)\n",
        "            elif isinstance(m, nn.Linear):\n",
        "                nn.init.kaiming_uniform_(m.weight, a=0.1)\n",
        "                nn.init.zeros_(m.bias)\n"
      ],
      "metadata": {
        "id": "9N-kSeIcwbZV"
      },
      "execution_count": null,
      "outputs": []
    },
    {
      "cell_type": "code",
      "source": [
        "model = GroceryModelFull(NUM_CLASSES).to(device)\n",
        "summary(model, (3 , INPUT_HEIGHT, INPUT_WIDTH), device=device)"
      ],
      "metadata": {
        "colab": {
          "base_uri": "https://localhost:8080/"
        },
        "id": "JXZF2IF2wfYe",
        "outputId": "fb7a76e0-e6da-4a4c-a410-75d570bba744"
      },
      "execution_count": null,
      "outputs": [
        {
          "output_type": "stream",
          "name": "stdout",
          "text": [
            "\n",
            "----------------------------------------------------------------\n",
            "        Layer (type)               Output Shape         Param #\n",
            "================================================================\n",
            "            Conv2d-1         [-1, 24, 126, 126]           1,824\n",
            "       BatchNorm2d-2         [-1, 24, 126, 126]              48\n",
            "              ReLU-3         [-1, 24, 126, 126]               0\n",
            "            Conv2d-4           [-1, 32, 61, 61]          19,232\n",
            "       BatchNorm2d-5           [-1, 32, 61, 61]              64\n",
            "              ReLU-6           [-1, 32, 61, 61]               0\n",
            "            Conv2d-7           [-1, 48, 30, 30]          13,872\n",
            "       BatchNorm2d-8           [-1, 48, 30, 30]              96\n",
            "              ReLU-9           [-1, 48, 30, 30]               0\n",
            "             ReLU-10           [-1, 48, 30, 30]               0\n",
            "           Conv2d-11           [-1, 48, 30, 30]          20,784\n",
            "      BatchNorm2d-12           [-1, 48, 30, 30]              96\n",
            "           Conv2d-13           [-1, 48, 30, 30]          13,872\n",
            "             ReLU-14           [-1, 48, 30, 30]               0\n",
            "             ReLU-15           [-1, 48, 30, 30]               0\n",
            "        ConvBlock-16           [-1, 48, 30, 30]               0\n",
            "           Conv2d-17           [-1, 72, 14, 14]          31,176\n",
            "      BatchNorm2d-18           [-1, 72, 14, 14]             144\n",
            "             ReLU-19           [-1, 72, 14, 14]               0\n",
            "             ReLU-20           [-1, 72, 14, 14]               0\n",
            "           Conv2d-21           [-1, 72, 14, 14]          46,728\n",
            "      BatchNorm2d-22           [-1, 72, 14, 14]             144\n",
            "           Conv2d-23           [-1, 72, 14, 14]          31,176\n",
            "             ReLU-24           [-1, 72, 14, 14]               0\n",
            "             ReLU-25           [-1, 72, 14, 14]               0\n",
            "        ConvBlock-26           [-1, 72, 14, 14]               0\n",
            "           Linear-27                  [-1, 256]          18,688\n",
            "      BatchNorm1d-28                  [-1, 256]             512\n",
            "             ReLU-29                  [-1, 256]               0\n",
            "          Dropout-30                  [-1, 256]               0\n",
            "           Linear-31                   [-1, 43]          11,051\n",
            "================================================================\n",
            "Total params: 209,507\n",
            "Trainable params: 209,507\n",
            "Non-trainable params: 0\n",
            "----------------------------------------------------------------\n",
            "Input size (MB): 0.75\n",
            "Forward/backward pass size (MB): 15.83\n",
            "Params size (MB): 0.80\n",
            "Estimated Total Size (MB): 17.38\n",
            "----------------------------------------------------------------\n"
          ]
        }
      ]
    },
    {
      "cell_type": "code",
      "source": [
        "cfg = {\n",
        "    \"batch_size\": 32,\n",
        "    \"num_epochs\": 10,\n",
        "\n",
        "    \"lr\": 1e-3,\n",
        "    \"wd\": 1e-4,\n",
        "    \"step_size\": 5\n",
        "}"
      ],
      "metadata": {
        "id": "SmRjnsrM1gGA"
      },
      "execution_count": 50,
      "outputs": []
    },
    {
      "cell_type": "code",
      "source": [
        "batch_size = 4\n",
        "train_dl = DataLoader(train_dset, batch_size=batch_size, shuffle=True)\n",
        "val_dl = DataLoader(val_dset, batch_size=batch_size)"
      ],
      "metadata": {
        "id": "hgUhcBI-1HwZ"
      },
      "execution_count": 51,
      "outputs": []
    },
    {
      "cell_type": "code",
      "source": [
        "trainer = Trainer(\n",
        "    model,\n",
        "    train_dl,\n",
        "    val_dl,\n",
        "    device,\n",
        "    NUM_CLASSES\n",
        ")\n",
        "\n",
        "trainer.train()"
      ],
      "metadata": {
        "colab": {
          "base_uri": "https://localhost:8080/",
          "height": 49,
          "referenced_widgets": [
            "afaf29eb8a354c8a9e5a1436029330cc",
            "fcb603ab27064419ad0800698e3f9fb0",
            "ea015c81c3494c57a821ce235fc15e2a",
            "4361db7fd2a744c184066097a387a4ce",
            "cf523febb51c4dd88fbf7e1644d83733",
            "cdbb96c85f2e4d9a82e72c60237d5413",
            "5a0ab5b99c7e47ab90b5e4402b2abf85",
            "2e7bd45c02794c83af7ac3fd4baf7ebf",
            "ef0e28a4d0fc4172958983b5ff031cbf",
            "c65e4c48d9314c9489cc3a4a941beadc",
            "7ec4ae3802684f7187ffa1e854f8c3ea"
          ]
        },
        "id": "q0nw-nbb0a3R",
        "outputId": "80b391c1-ee19-4551-a16d-55a5436c5e3b"
      },
      "execution_count": null,
      "outputs": [
        {
          "output_type": "display_data",
          "data": {
            "text/plain": [
              "Epoch:   0%|          | 0/20 [00:00<?, ?it/s]"
            ],
            "application/vnd.jupyter.widget-view+json": {
              "version_major": 2,
              "version_minor": 0,
              "model_id": "afaf29eb8a354c8a9e5a1436029330cc"
            }
          },
          "metadata": {}
        }
      ]
    },
    {
      "cell_type": "code",
      "source": [],
      "metadata": {
        "id": "MW_13L212pKr"
      },
      "execution_count": null,
      "outputs": []
    },
    {
      "cell_type": "markdown",
      "source": [
        "###Trainer"
      ],
      "metadata": {
        "id": "nNWk9E43zuZf"
      }
    },
    {
      "cell_type": "code",
      "source": [
        "def train(\n",
        "    model,\n",
        "    loss_fn,\n",
        "    optimizer,\n",
        "    scheduler,\n",
        "    train_dl,\n",
        "    val_dl,\n",
        "    device,\n",
        "    n_epochs,\n",
        "    early_stop_val_acc=0.6,\n",
        "    checkpoint_path=None,\n",
        "    logging_path=None\n",
        "):\n",
        "    # Convert paths to Path objects\n",
        "    checkpoint_dir = Path(checkpoint_path) if checkpoint_path is not None else None\n",
        "    logging_dir = Path(logging_path) if logging_path is not None else None\n",
        "\n",
        "    # Create directories if needed\n",
        "    if checkpoint_dir is not None:\n",
        "        checkpoint_dir.mkdir(parents=True, exist_ok=True)\n",
        "    if logging_dir is not None:\n",
        "        logging_dir.mkdir(parents=True, exist_ok=True)\n",
        "\n",
        "    history = []\n",
        "    model = model.to(device)\n",
        "    loss_fn = loss_fn.to(device)\n",
        "\n",
        "    for epoch in (pbar := tqdm(range(n_epochs))):\n",
        "        batch_train_accuracies = []\n",
        "        batch_train_losses = []\n",
        "        batch_train_times = []\n",
        "        val_accuracy = 0\n",
        "        val_loss = 0\n",
        "        curr_lr = scheduler.get_last_lr()[-1] if scheduler is not None else optimizer.param_groups[-1]['lr']\n",
        "\n",
        "        # Train\n",
        "        model.train()\n",
        "        for i, (images, labels) in enumerate(train_dl):\n",
        "            pbar.set_description(f\"Epoch {epoch+1} ({i+1}/{len(train_dl)}) [lr: {curr_lr:.3e}]\")\n",
        "            if device == \"cuda\":\n",
        "                start_time = torch.cuda.Event(enable_timing=True)\n",
        "                end_time = torch.cuda.Event(enable_timing=True)\n",
        "            images, labels = images.to(device), labels.to(device)\n",
        "\n",
        "            if device == \"cuda\": start_time.record()\n",
        "            optimizer.zero_grad()\n",
        "            pred_logits = model(images)\n",
        "            loss = loss_fn(pred_logits, labels)\n",
        "            loss.backward()\n",
        "            optimizer.step()\n",
        "            if device == \"cuda\": end_time.record()\n",
        "\n",
        "            _, preds = torch.max(pred_logits, 1)\n",
        "            batch_train_accuracies.append((preds == labels).sum().item() / labels.size(0))\n",
        "            batch_train_losses.append(loss.item())\n",
        "            if device == \"cuda\":\n",
        "                torch.cuda.synchronize()\n",
        "                batch_train_times.append(start_time.elapsed_time(end_time))\n",
        "        if scheduler is not None:\n",
        "            scheduler.step()\n",
        "\n",
        "        # Validation\n",
        "        model.eval()\n",
        "        val_accuracy_per_label_count = np.zeros((NUM_CLASSES, 2))\n",
        "        with torch.no_grad():\n",
        "            for images, labels in val_dl:\n",
        "                images, labels = images.to(device), labels.to(device)\n",
        "                preds_logits = model(images)\n",
        "                _, pred = torch.max(preds_logits, 1)\n",
        "                val_accuracy += (pred == labels).sum().item()\n",
        "                for class_idx in range(NUM_CLASSES):\n",
        "                    val_accuracy_per_label_count[class_idx, 0] += np.logical_and((pred == labels).cpu().numpy(), (labels == class_idx).cpu().numpy()).sum()\n",
        "                    val_accuracy_per_label_count[class_idx, 1] += (labels == class_idx).sum().item()\n",
        "\n",
        "                val_loss += loss_fn(preds_logits, labels).item() * labels.shape[0]\n",
        "\n",
        "        val_accuracy = val_accuracy / len(val_dl.dataset)\n",
        "        val_accuracy_per_label_count[val_accuracy_per_label_count[:, 1] == 0, 1] = np.inf\n",
        "        val_accuracy_per_label = val_accuracy_per_label_count[:, 0] / val_accuracy_per_label_count[:, 1]\n",
        "        val_loss = val_loss / len(val_dl.dataset)\n",
        "\n",
        "        print(\n",
        "            f\"Epoch {epoch + 1:<3} [lr: {curr_lr:.3e}] | \"\n",
        "            f\"train_acc: {np.mean(batch_train_accuracies):.4f} \"\n",
        "            f\"train_loss: {np.mean(batch_train_losses):.4f} \"\n",
        "            f\"val_acc: {val_accuracy:.4f} \"\n",
        "            f\"val_loss: {val_loss:.4f}\",\n",
        "        )\n",
        "\n",
        "        # Checkpoint\n",
        "        if checkpoint_dir is not None:\n",
        "            checkpoint_file = checkpoint_dir / f\"epoch{epoch+1}.ckp.pt\"\n",
        "            torch.save({\n",
        "                \"state_dict\": model.state_dict(),\n",
        "                \"architecture\": str(model)\n",
        "            }, checkpoint_file)\n",
        "\n",
        "        # Logging\n",
        "        epoch_logs = {\n",
        "            \"epoch\": epoch + 1,\n",
        "            \"batch_train_accuracies\": batch_train_accuracies,\n",
        "            \"batch_train_losses\": batch_train_losses,\n",
        "            \"batch_train_times\": batch_train_times,\n",
        "            \"val_accuracy\": val_accuracy,\n",
        "            \"val_loss\": val_loss,\n",
        "            \"val_accuracy_per_label\": val_accuracy_per_label.tolist()\n",
        "        }\n",
        "        if logging_dir is not None:\n",
        "            log_file = logging_dir / f\"epoch{epoch+1}.log.json\"\n",
        "            with open(log_file, \"w\") as f:\n",
        "                json.dump(epoch_logs, f, indent=3)\n",
        "        history.append(epoch_logs)\n",
        "\n",
        "        if (early_stop_val_acc is not None) and (val_accuracy >= early_stop_val_acc):\n",
        "            break\n",
        "\n",
        "    return history\n"
      ],
      "metadata": {
        "id": "IsbcrTUCwjmF"
      },
      "execution_count": null,
      "outputs": []
    },
    {
      "cell_type": "markdown",
      "source": [
        "###Training"
      ],
      "metadata": {
        "id": "iHPY8tsRzyVB"
      }
    },
    {
      "cell_type": "code",
      "source": [
        "batch_size = 32\n",
        "train_dl = DataLoader(train_dset, batch_size=batch_size, shuffle=True)\n",
        "val_dl = DataLoader(val_dset, batch_size=batch_size)\n",
        "\n",
        "# Model, Loss, Optimizer, and Scheduler\n",
        "device = \"cuda\" if torch.cuda.is_available() else \"cpu\"\n",
        "model = GroceryModelFull(n_classes=NUM_CLASSES)\n",
        "loss_fn = nn.CrossEntropyLoss()\n",
        "optimizer = optim.Adam(model.parameters(), lr=1e-3)\n",
        "scheduler = torch.optim.lr_scheduler.StepLR(optimizer, step_size=10, gamma=0.7)\n",
        "\n",
        "# Train the model\n",
        "train_history = train(\n",
        "    model=model,\n",
        "    loss_fn=loss_fn,\n",
        "    optimizer=optimizer,\n",
        "    scheduler=scheduler,\n",
        "    train_dl=train_dl,\n",
        "    val_dl=val_dl,\n",
        "    device=device,\n",
        "    n_epochs=20,\n",
        "    early_stop_val_acc=0.8,\n",
        "    checkpoint_path=\"./checkpoints\",\n",
        "    logging_path=\"./logs\"\n",
        ")"
      ],
      "metadata": {
        "colab": {
          "base_uri": "https://localhost:8080/",
          "height": 397,
          "referenced_widgets": [
            "4b21f49fff26453d8c0b715d3d136b4e",
            "6771728993c0483689fd1422e93d3e6e",
            "cd19f98567fb4ebc86b50564145e0b5d",
            "107a9f70974d4a98be2d60d8b4ac8655",
            "f4c8cca1ec764ef8b1cca1ceaa6ca1cb",
            "94fdcf83be4a42388b40249fccfb1851",
            "08a113d6e31b47869adb19fc5c8df1bd",
            "47927b4110af4c06bf38158bdc82879e",
            "b936ff87c0324e39a5af227d8fede333",
            "3e29be4fcc4d4a0cbd56b2803ca6d4c3",
            "d5a8da4243dc475c9a9fe9d109766ac4"
          ]
        },
        "id": "AcN2IZZjwnzd",
        "outputId": "a24605ff-b7b2-4d6b-d62c-a59de9bdfac5"
      },
      "execution_count": null,
      "outputs": [
        {
          "output_type": "display_data",
          "data": {
            "text/plain": [
              "  0%|          | 0/20 [00:00<?, ?it/s]"
            ],
            "application/vnd.jupyter.widget-view+json": {
              "version_major": 2,
              "version_minor": 0,
              "model_id": "4b21f49fff26453d8c0b715d3d136b4e"
            }
          },
          "metadata": {}
        },
        {
          "output_type": "error",
          "ename": "KeyboardInterrupt",
          "evalue": "",
          "traceback": [
            "\u001b[0;31m---------------------------------------------------------------------------\u001b[0m",
            "\u001b[0;31mKeyboardInterrupt\u001b[0m                         Traceback (most recent call last)",
            "\u001b[0;32m<ipython-input-42-a9ecae2c0785>\u001b[0m in \u001b[0;36m<cell line: 13>\u001b[0;34m()\u001b[0m\n\u001b[1;32m     11\u001b[0m \u001b[0;34m\u001b[0m\u001b[0m\n\u001b[1;32m     12\u001b[0m \u001b[0;31m# Train the model\u001b[0m\u001b[0;34m\u001b[0m\u001b[0;34m\u001b[0m\u001b[0m\n\u001b[0;32m---> 13\u001b[0;31m train_history = train(\n\u001b[0m\u001b[1;32m     14\u001b[0m     \u001b[0mmodel\u001b[0m\u001b[0;34m=\u001b[0m\u001b[0mmodel\u001b[0m\u001b[0;34m,\u001b[0m\u001b[0;34m\u001b[0m\u001b[0;34m\u001b[0m\u001b[0m\n\u001b[1;32m     15\u001b[0m     \u001b[0mloss_fn\u001b[0m\u001b[0;34m=\u001b[0m\u001b[0mloss_fn\u001b[0m\u001b[0;34m,\u001b[0m\u001b[0;34m\u001b[0m\u001b[0;34m\u001b[0m\u001b[0m\n",
            "\u001b[0;32m<ipython-input-41-a2ca634f7ffa>\u001b[0m in \u001b[0;36mtrain\u001b[0;34m(model, loss_fn, optimizer, scheduler, train_dl, val_dl, device, n_epochs, early_stop_val_acc, checkpoint_path, logging_path)\u001b[0m\n\u001b[1;32m     47\u001b[0m             \u001b[0mpred_logits\u001b[0m \u001b[0;34m=\u001b[0m \u001b[0mmodel\u001b[0m\u001b[0;34m(\u001b[0m\u001b[0mimages\u001b[0m\u001b[0;34m)\u001b[0m\u001b[0;34m\u001b[0m\u001b[0;34m\u001b[0m\u001b[0m\n\u001b[1;32m     48\u001b[0m             \u001b[0mloss\u001b[0m \u001b[0;34m=\u001b[0m \u001b[0mloss_fn\u001b[0m\u001b[0;34m(\u001b[0m\u001b[0mpred_logits\u001b[0m\u001b[0;34m,\u001b[0m \u001b[0mlabels\u001b[0m\u001b[0;34m)\u001b[0m\u001b[0;34m\u001b[0m\u001b[0;34m\u001b[0m\u001b[0m\n\u001b[0;32m---> 49\u001b[0;31m             \u001b[0mloss\u001b[0m\u001b[0;34m.\u001b[0m\u001b[0mbackward\u001b[0m\u001b[0;34m(\u001b[0m\u001b[0;34m)\u001b[0m\u001b[0;34m\u001b[0m\u001b[0;34m\u001b[0m\u001b[0m\n\u001b[0m\u001b[1;32m     50\u001b[0m             \u001b[0moptimizer\u001b[0m\u001b[0;34m.\u001b[0m\u001b[0mstep\u001b[0m\u001b[0;34m(\u001b[0m\u001b[0;34m)\u001b[0m\u001b[0;34m\u001b[0m\u001b[0;34m\u001b[0m\u001b[0m\n\u001b[1;32m     51\u001b[0m             \u001b[0;32mif\u001b[0m \u001b[0mdevice\u001b[0m \u001b[0;34m==\u001b[0m \u001b[0;34m\"cuda\"\u001b[0m\u001b[0;34m:\u001b[0m \u001b[0mend_time\u001b[0m\u001b[0;34m.\u001b[0m\u001b[0mrecord\u001b[0m\u001b[0;34m(\u001b[0m\u001b[0;34m)\u001b[0m\u001b[0;34m\u001b[0m\u001b[0;34m\u001b[0m\u001b[0m\n",
            "\u001b[0;32m/usr/local/lib/python3.10/dist-packages/torch/_tensor.py\u001b[0m in \u001b[0;36mbackward\u001b[0;34m(self, gradient, retain_graph, create_graph, inputs)\u001b[0m\n\u001b[1;32m    519\u001b[0m                 \u001b[0minputs\u001b[0m\u001b[0;34m=\u001b[0m\u001b[0minputs\u001b[0m\u001b[0;34m,\u001b[0m\u001b[0;34m\u001b[0m\u001b[0;34m\u001b[0m\u001b[0m\n\u001b[1;32m    520\u001b[0m             )\n\u001b[0;32m--> 521\u001b[0;31m         torch.autograd.backward(\n\u001b[0m\u001b[1;32m    522\u001b[0m             \u001b[0mself\u001b[0m\u001b[0;34m,\u001b[0m \u001b[0mgradient\u001b[0m\u001b[0;34m,\u001b[0m \u001b[0mretain_graph\u001b[0m\u001b[0;34m,\u001b[0m \u001b[0mcreate_graph\u001b[0m\u001b[0;34m,\u001b[0m \u001b[0minputs\u001b[0m\u001b[0;34m=\u001b[0m\u001b[0minputs\u001b[0m\u001b[0;34m\u001b[0m\u001b[0;34m\u001b[0m\u001b[0m\n\u001b[1;32m    523\u001b[0m         )\n",
            "\u001b[0;32m/usr/local/lib/python3.10/dist-packages/torch/autograd/__init__.py\u001b[0m in \u001b[0;36mbackward\u001b[0;34m(tensors, grad_tensors, retain_graph, create_graph, grad_variables, inputs)\u001b[0m\n\u001b[1;32m    287\u001b[0m     \u001b[0;31m# some Python versions print out the first line of a multi-line function\u001b[0m\u001b[0;34m\u001b[0m\u001b[0;34m\u001b[0m\u001b[0m\n\u001b[1;32m    288\u001b[0m     \u001b[0;31m# calls in the traceback and some print out the last line\u001b[0m\u001b[0;34m\u001b[0m\u001b[0;34m\u001b[0m\u001b[0m\n\u001b[0;32m--> 289\u001b[0;31m     _engine_run_backward(\n\u001b[0m\u001b[1;32m    290\u001b[0m         \u001b[0mtensors\u001b[0m\u001b[0;34m,\u001b[0m\u001b[0;34m\u001b[0m\u001b[0;34m\u001b[0m\u001b[0m\n\u001b[1;32m    291\u001b[0m         \u001b[0mgrad_tensors_\u001b[0m\u001b[0;34m,\u001b[0m\u001b[0;34m\u001b[0m\u001b[0;34m\u001b[0m\u001b[0m\n",
            "\u001b[0;32m/usr/local/lib/python3.10/dist-packages/torch/autograd/graph.py\u001b[0m in \u001b[0;36m_engine_run_backward\u001b[0;34m(t_outputs, *args, **kwargs)\u001b[0m\n\u001b[1;32m    766\u001b[0m         \u001b[0munregister_hooks\u001b[0m \u001b[0;34m=\u001b[0m \u001b[0m_register_logging_hooks_on_whole_graph\u001b[0m\u001b[0;34m(\u001b[0m\u001b[0mt_outputs\u001b[0m\u001b[0;34m)\u001b[0m\u001b[0;34m\u001b[0m\u001b[0;34m\u001b[0m\u001b[0m\n\u001b[1;32m    767\u001b[0m     \u001b[0;32mtry\u001b[0m\u001b[0;34m:\u001b[0m\u001b[0;34m\u001b[0m\u001b[0;34m\u001b[0m\u001b[0m\n\u001b[0;32m--> 768\u001b[0;31m         return Variable._execution_engine.run_backward(  # Calls into the C++ engine to run the backward pass\n\u001b[0m\u001b[1;32m    769\u001b[0m             \u001b[0mt_outputs\u001b[0m\u001b[0;34m,\u001b[0m \u001b[0;34m*\u001b[0m\u001b[0margs\u001b[0m\u001b[0;34m,\u001b[0m \u001b[0;34m**\u001b[0m\u001b[0mkwargs\u001b[0m\u001b[0;34m\u001b[0m\u001b[0;34m\u001b[0m\u001b[0m\n\u001b[1;32m    770\u001b[0m         )  # Calls into the C++ engine to run the backward pass\n",
            "\u001b[0;31mKeyboardInterrupt\u001b[0m: "
          ]
        }
      ]
    },
    {
      "cell_type": "markdown",
      "source": [
        "#Linear NN"
      ],
      "metadata": {
        "id": "OlLkJSyhMvfc"
      }
    },
    {
      "cell_type": "markdown",
      "source": [
        "### Start with a simple Linear NN"
      ],
      "metadata": {
        "id": "_aZx93lFQ5f0"
      }
    },
    {
      "cell_type": "code",
      "source": [
        "class SimpleClassifier(nn.Module):\n",
        "    def __init__(self, input_dim, hidden_dim, n_classes, n_hidden_layers=0):\n",
        "        super().__init__()\n",
        "\n",
        "        # Initialize the modules we need to build the network\n",
        "        self.first = nn.Linear(input_dim, hidden_dim)\n",
        "        self.activation = nn.ReLU()\n",
        "        self.last = nn.Linear(hidden_dim, n_classes)\n",
        "\n",
        "        self.hidden_layers = nn.ModuleList([\n",
        "            nn.Linear(hidden_dim, hidden_dim) for i in range(n_hidden_layers)\n",
        "        ])\n",
        "\n",
        "    def forward(self, x):\n",
        "        # Perform the calculation of the model to determine the prediction\n",
        "        x = self.first(x)\n",
        "        x = self.activation(x)\n",
        "        for layer in self.hidden_layers:\n",
        "            x = layer(x)\n",
        "            x = self.activation(x)\n",
        "        x = self.last(x)\n",
        "\n",
        "        return x"
      ],
      "metadata": {
        "id": "-FtVugk-JFUc"
      },
      "execution_count": null,
      "outputs": []
    },
    {
      "cell_type": "code",
      "source": [
        "hidden_dim = 128\n",
        "n_classes = train_dset.get_num_classes()\n",
        "input_dim = len(train_dset[0][0])\n",
        "\n",
        "model = SimpleClassifier(\n",
        "    input_dim,\n",
        "    hidden_dim,\n",
        "    n_classes,\n",
        "    n_hidden_layers=1\n",
        ")\n",
        "\n",
        "for name, params in model.named_parameters():\n",
        "    print(f\"{name}: {params.shape}\")"
      ],
      "metadata": {
        "colab": {
          "base_uri": "https://localhost:8080/",
          "height": 216
        },
        "id": "Lhu1vhiChSxD",
        "outputId": "d30487a2-2880-4e15-852c-63f803cb67cc"
      },
      "execution_count": null,
      "outputs": [
        {
          "output_type": "error",
          "ename": "AttributeError",
          "evalue": "'ConcatDataset' object has no attribute 'get_num_classes'",
          "traceback": [
            "\u001b[0;31m---------------------------------------------------------------------------\u001b[0m",
            "\u001b[0;31mAttributeError\u001b[0m                            Traceback (most recent call last)",
            "\u001b[0;32m<ipython-input-40-97bdeb141e4d>\u001b[0m in \u001b[0;36m<cell line: 2>\u001b[0;34m()\u001b[0m\n\u001b[1;32m      1\u001b[0m \u001b[0mhidden_dim\u001b[0m \u001b[0;34m=\u001b[0m \u001b[0;36m128\u001b[0m\u001b[0;34m\u001b[0m\u001b[0;34m\u001b[0m\u001b[0m\n\u001b[0;32m----> 2\u001b[0;31m \u001b[0mn_classes\u001b[0m \u001b[0;34m=\u001b[0m \u001b[0mtrain_dset\u001b[0m\u001b[0;34m.\u001b[0m\u001b[0mget_num_classes\u001b[0m\u001b[0;34m(\u001b[0m\u001b[0;34m)\u001b[0m\u001b[0;34m\u001b[0m\u001b[0;34m\u001b[0m\u001b[0m\n\u001b[0m\u001b[1;32m      3\u001b[0m \u001b[0minput_dim\u001b[0m \u001b[0;34m=\u001b[0m \u001b[0mlen\u001b[0m\u001b[0;34m(\u001b[0m\u001b[0mtrain_dset\u001b[0m\u001b[0;34m[\u001b[0m\u001b[0;36m0\u001b[0m\u001b[0;34m]\u001b[0m\u001b[0;34m[\u001b[0m\u001b[0;36m0\u001b[0m\u001b[0;34m]\u001b[0m\u001b[0;34m)\u001b[0m\u001b[0;34m\u001b[0m\u001b[0;34m\u001b[0m\u001b[0m\n\u001b[1;32m      4\u001b[0m \u001b[0;34m\u001b[0m\u001b[0m\n\u001b[1;32m      5\u001b[0m model = SimpleClassifier(\n",
            "\u001b[0;31mAttributeError\u001b[0m: 'ConcatDataset' object has no attribute 'get_num_classes'"
          ]
        }
      ]
    },
    {
      "cell_type": "code",
      "source": [
        "model.to(device)"
      ],
      "metadata": {
        "id": "gKiBfBI3iiT2"
      },
      "execution_count": null,
      "outputs": []
    },
    {
      "cell_type": "markdown",
      "source": [
        "### Optimization"
      ],
      "metadata": {
        "id": "0L-GhlEwi7W2"
      }
    },
    {
      "cell_type": "code",
      "source": [
        "optimizer = Adam(model.parameters(), lr=0.001)"
      ],
      "metadata": {
        "id": "YgwDj2mHi2BA"
      },
      "execution_count": null,
      "outputs": []
    },
    {
      "cell_type": "code",
      "source": [
        "def ncorrect(scores, y): # scores sono le prediction, y sono le labels\n",
        "    y_hat = torch.argmax(scores, -1) # prendo l'indice massimo di ogni score per tutti i dati del batch\n",
        "    return (y_hat == y).sum() # faccio la somma per avere il numero di prediction corrette per batch\n",
        "\n",
        "def accuracy(scores, y): # questo è solo per il calcolo della percentuale, quindi accuracy\n",
        "    correct = ncorrect(scores, y)\n",
        "    return correct.true_divide(y.shape[0])\n",
        "\n",
        "def train_loop(model, train_dl, epochs, opt, val_dl=None, verbose=False):\n",
        "    best_val_acc = 0\n",
        "    best_params = []\n",
        "    best_epoch = -1\n",
        "\n",
        "    for e in tqdm(range(epochs)):\n",
        "        # tqdm è una libreria Python utilizzata per mostrare barre di progresso nei cicli. È particolarmente utile quando si eseguono\n",
        "        # operazioni che richiedono molto tempo\n",
        "\n",
        "        model.train() #  il modello viene impostato in modalità di addestramento\n",
        "        # ha i seguenti effetti: Impostare il modello in modalità di addestramento è cruciale perché alcuni moduli si comportano\n",
        "        #                        diversamente durante l'addestramento e la valutazione.\n",
        "        #                        Inoltre attiva il dropout e la BatchNormalization se sono presenti\n",
        "\n",
        "        # Train #############################################################\n",
        "        train_loss = 0\n",
        "        train_samples = 0\n",
        "        train_acc = 0\n",
        "        for train_data in train_dl: # Tramite il dataloader prendo un batch, (img, label)\n",
        "\n",
        "            # Questo codice serve a trasferire i dati di addestramento(tensore) (immagini e etichette) sul dispositivo specificato\n",
        "            # (tipicamente una GPU) per accelerare l'addestramento del modello.\n",
        "            imgs = train_data[0].to(device)\n",
        "            labels = train_data[1].to(device)\n",
        "\n",
        "            # forward pass del modello di deep learning model su un batch di immagini imgs e memorizza i risultati in scores\n",
        "            scores = model(imgs) # tensore di 43 output\n",
        "\n",
        "            loss = F.cross_entropy(scores, labels) # RICORDO che è la media !! Per questo si fa poi * imgs.shape[0]\n",
        "\n",
        "            train_loss += loss.item() * imgs.shape[0] # loss è un tensore, e loss.item() estrae il valore numerico dallo stesso.\n",
        "            # Questo valore rappresenta la perdita media per il batch corrente.\n",
        "\n",
        "            train_samples += imgs.shape[0] # perchè la prima dimensione tiene conto del numero di samples usati\n",
        "            train_acc += ncorrect(scores, labels).item()\n",
        "\n",
        "            opt.zero_grad()  # Questa linea resetta (azzera) tutti i gradienti dei tensori ottimizzati dal modello. In PyTorch, i gradienti degli ottimizzatori vengono accumulati (cioè sommati) per default.\n",
        "            loss.backward()  # Questa linea calcola i gradienti della funzione di perdita rispetto a tutti i parametri del modello (cioè esegue la backpropagation).\n",
        "            opt.step()       # esegue un passo dell'ottimizzatore, cioè aggiorna i pesi del modello usando i gradienti calcolati nella fase precedente.\n",
        "\n",
        "        # percentuale accuracy e percentuale loss\n",
        "        train_acc /= train_samples\n",
        "        train_loss /= train_samples\n",
        "\n",
        "        # Validation #################################################################################à\n",
        "        model.eval() # imposta il modello in modalità di valutazione.\n",
        "        # Il modello viene utilizzato per fare previsioni sui dati di test o di validazione.\n",
        "        # Le tecniche come il dropout vengono disattivate in questa fase perché non vogliamo introdurre casualità nelle previsioni.\n",
        "\n",
        "        with torch.no_grad():\n",
        "        # with torch.no_grad():: Questo contesto temporaneamente disabilita il calcolo dei gradienti.\n",
        "        # È utile durante la valutazione del modello per evitare di accumulare gradienti e risparmiare memoria.\n",
        "\n",
        "            val_loss = 0\n",
        "            val_samples = 0\n",
        "            val_acc = 0\n",
        "            if val_dl is not None: # quindi solo se è predente un dataset per la validazione\n",
        "                for val_data in val_dl: # prendo i batch di validation\n",
        "\n",
        "                    # li metto sulla GPU\n",
        "                    imgs = val_data[0].to(device)\n",
        "                    labels = val_data[1].to(device)\n",
        "\n",
        "                    # forward pass\n",
        "                    val_scores = model(imgs)\n",
        "\n",
        "                    val_loss += F.cross_entropy(val_scores, labels).item() * imgs.shape[0]\n",
        "                    val_samples += imgs.shape[0]\n",
        "                    val_acc += ncorrect(val_scores, labels).item()\n",
        "                val_acc /= val_samples\n",
        "                val_loss /= val_samples\n",
        "\n",
        "            if val_dl is None or val_acc > best_val_acc:\n",
        "                best_val_acc = val_acc if val_dl is not None else 0\n",
        "\n",
        "                # Questo metodo restituisce un dizionario contenente i parametri (pesi e bias) di tutti gli strati del modello.\n",
        "                # Le chiavi del dizionario sono i nomi dei parametri e i valori sono i tensori dei parametri stessi.\n",
        "                best_params = model.state_dict()\n",
        "\n",
        "                torch.save(best_params, \"best_model.pth\") # vengono salvati in un file chiamato \"best_model.pth. Probabilmente vengono salvati nella root directory\n",
        "                best_epoch = e\n",
        "\n",
        "        # verbose: Questo è un parametro che controlla se le informazioni dettagliate dovrebbero essere stampate o meno.\n",
        "        # Se è True, allora le informazioni vengono stampate.\n",
        "        # e % 5 == 0: Questa condizione controlla se l'epoca corrente (e) è un multiplo di 5. In altre parole, stampa le informazioni solo ogni 5 epoche.\n",
        "        if verbose and e % 5 == 0:\n",
        "            print(f\"Epoch {e}: train loss {train_loss:.3f} - train acc {train_acc:.3f}\" + (\"\" if val_dl is None else f\" - valid loss {val_loss:.3f} - valid acc {val_acc:.3f}\"))\n",
        "\n",
        "    if verbose and val_dl is not None:\n",
        "        print(f\"Best epoch {best_epoch}, best acc {best_val_acc}\")\n",
        "\n",
        "    return best_val_acc, best_params, best_epoch"
      ],
      "metadata": {
        "id": "CYEje2u4jpFW"
      },
      "execution_count": null,
      "outputs": []
    },
    {
      "cell_type": "markdown",
      "source": [
        "### Training del primo modello semplice"
      ],
      "metadata": {
        "id": "OWD2KtaHjp9q"
      }
    },
    {
      "cell_type": "code",
      "source": [
        "epochs = 20\n",
        "\n",
        "best_val_acc, best_params, best_epoch = train_loop(\n",
        "    model,\n",
        "    train_dl,\n",
        "    epochs,\n",
        "    optimizer,\n",
        "    val_dl,\n",
        "    verbose=True\n",
        ")"
      ],
      "metadata": {
        "id": "iqzP5EUEjseS"
      },
      "execution_count": null,
      "outputs": []
    },
    {
      "cell_type": "code",
      "source": [
        "# il file best_model.pth è memorizzato nel filesystem temporaneo associato alla tua sessione di Colab\n",
        "# significa che dovrò sempre poi rerunnare il modello -> non mi piace\n",
        "# adesso trovo un modo per salvarlo per sempre in modo tale da non dover più rerunnare tutto il training\n",
        "\n",
        "from google.colab import drive\n",
        "drive.mount('/content/drive')"
      ],
      "metadata": {
        "id": "LcR2cfl-zOxn"
      },
      "execution_count": null,
      "outputs": []
    },
    {
      "cell_type": "code",
      "source": [
        "!cp best_model.pth /content/drive/MyDrive/assignment"
      ],
      "metadata": {
        "id": "WuPdRuFT3RHX"
      },
      "execution_count": null,
      "outputs": []
    },
    {
      "cell_type": "code",
      "source": [
        "torch.argmax(model(test_dset[0][0]), -1).item()"
      ],
      "metadata": {
        "id": "Gi5_OdMh4-kP"
      },
      "execution_count": null,
      "outputs": []
    },
    {
      "cell_type": "code",
      "source": [
        "model(test_dset[0][0])"
      ],
      "metadata": {
        "id": "5g4EaU8x6Hre"
      },
      "execution_count": null,
      "outputs": []
    },
    {
      "cell_type": "markdown",
      "source": [
        "#### Uso di una confusion matrix per verificare il modello come si comporta nella prediction delle classi"
      ],
      "metadata": {
        "id": "iNVHFjqk5Z2e"
      }
    },
    {
      "cell_type": "code",
      "source": [
        "model.eval()\n",
        "confusion_matrix = torch.zeros(n_classes, n_classes, dtype=torch.int)\n",
        "\n",
        "with torch.no_grad():\n",
        "    for test_data in test_dl:\n",
        "        imgs, labels = test_data\n",
        "        imgs = imgs.to(device)\n",
        "        labels = labels.to(device)\n",
        "\n",
        "        scores = model(imgs) # tensore risultate dalla prediction\n",
        "        preds = torch.argmax(scores, -1) # prendo solo l'indice con il risultato maggiore per tutti i datapoint del batch\n",
        "\n",
        "        # view(-1) di un tensore in PyTorch è utilizzato per rimodellare (reshape) il tensore in una vista 1D (unidimensionale) mantenendo lo stesso numero di elementi.\n",
        "        for lbl, pred in zip(labels.view(-1), preds.view(-1)):\n",
        "                confusion_matrix[lbl.int(), pred.int()] += 1 # aggiunge +1 per ogni prediction del batch\n",
        "\n",
        "# estrae gli elementi diagonali della matrice di confusione. Gli elementi diagonali rappresentano il numero di predizioni corrette\n",
        "# per ciascuna classe (ovvero, dove l'etichetta reale coincide con la predizione)\n",
        "# .sum() somma questi elementi, ottenendo il totale delle predizioni corrette.\n",
        "test_acc = (torch.diagonal(confusion_matrix).sum() / confusion_matrix.sum()).item() # confusion_matrix.sum() calcola la somma di tutti gli elementi nella matrice di confusione\n",
        "print(test_acc) # non fa altro che un calcolo dell'accuracy sui dati di test"
      ],
      "metadata": {
        "id": "uNb6JHyF5ZNl"
      },
      "execution_count": null,
      "outputs": []
    },
    {
      "cell_type": "code",
      "source": [
        "plt.figure(figsize=(15, 10))\n",
        "conf_mtrx_df = pd.DataFrame(confusion_matrix)\n",
        "sn.heatmap(conf_mtrx_df, annot=True, fmt=\"d\");\n",
        "plt.show()"
      ],
      "metadata": {
        "id": "p5FdQjPj6fEZ"
      },
      "execution_count": null,
      "outputs": []
    },
    {
      "cell_type": "markdown",
      "source": [
        "## Model 2 con aggiunta di più layers con batch normalization\n",
        "Potrei anche rifare il primo modello con l'aggiunta di questa tecnica, poichè a livello teorico e sperimentale il primo modello fatto è senza senso, quindi si potrebbe partire da una base più solida"
      ],
      "metadata": {
        "id": "o8fvp38r5Gxg"
      }
    },
    {
      "cell_type": "code",
      "source": [
        "def get_linear_bn_relu(input_dim, out_dim):\n",
        "    modules = []\n",
        "    modules.append(nn.Linear(input_dim, out_dim))\n",
        "    modules.append(nn.BatchNorm1d(out_dim))\n",
        "    modules.append(nn.ReLU())\n",
        "\n",
        "    # costruisce un modulo sequenziale da una lista di moduli. *modules è la sintassi per passare la lista di moduli come argomenti\n",
        "    # separati alla funzione nn.Sequential.\n",
        "    # Il modulo sequenziale restituito applica ogni modulo nell'ordine in cui sono stati aggiunti alla lista quando viene chiamato\n",
        "    # con un input.\n",
        "    return nn.Sequential(*modules)\n",
        "\n",
        "class SimpleClassifierBNv2(nn.Module):\n",
        "    def __init__(self, input_dim, hidden_dim, n_classes, n_hidden_layers=0):\n",
        "        super().__init__()\n",
        "\n",
        "        self.first = get_linear_bn_relu(input_dim, hidden_dim)\n",
        "        self.last = nn.Linear(hidden_dim, n_classes)\n",
        "\n",
        "        self.hidden_layers = nn.ModuleList([\n",
        "            get_linear_bn_relu(hidden_dim, hidden_dim) for i in range(n_hidden_layers)\n",
        "        ])\n",
        "\n",
        "    def forward(self, x):\n",
        "        x = self.first(x)\n",
        "        for layer in self.hidden_layers:\n",
        "            x = layer(x)\n",
        "        x = self.last(x)\n",
        "        return x"
      ],
      "metadata": {
        "id": "3wpc8fEcH-FV"
      },
      "execution_count": null,
      "outputs": []
    },
    {
      "cell_type": "code",
      "source": [
        "model2 = SimpleClassifierBNv2(\n",
        "    input_dim,\n",
        "    hidden_dim,\n",
        "    n_classes,\n",
        "    n_hidden_layers=3\n",
        ")\n",
        "\n",
        "model2.to(device)\n",
        "\n",
        "optimizer = torch.optim.Adam(model2.parameters(), lr=0.01)\n",
        "epochs = 25\n",
        "\n",
        "best_val_acc, best_params, best_epoch = train_loop(\n",
        "    model2,\n",
        "    train_dl,\n",
        "    epochs,\n",
        "    optimizer,\n",
        "    val_dl,\n",
        "    verbose=True)"
      ],
      "metadata": {
        "id": "odJ3WQFrJzGd"
      },
      "execution_count": null,
      "outputs": []
    },
    {
      "cell_type": "markdown",
      "source": [
        "Non è cambiato nulla a livello di accuracy"
      ],
      "metadata": {
        "id": "Pm7-gVxnM4YS"
      }
    },
    {
      "cell_type": "code",
      "source": [
        "!cp best_model.pth /content/drive/MyDrive/assignment"
      ],
      "metadata": {
        "id": "pF4Rk0CIKUNZ"
      },
      "execution_count": null,
      "outputs": []
    },
    {
      "cell_type": "code",
      "source": [
        "for name, params in model2.named_parameters():\n",
        "    print(f\"{name}: {params.shape}\")"
      ],
      "metadata": {
        "id": "ZRxAGm-6NzC1"
      },
      "execution_count": null,
      "outputs": []
    },
    {
      "cell_type": "code",
      "source": [
        "# Il Batch Normalization (BatchNorm) aggiunge un tensore di pesi e uno di bias per consentire alla rete neurale di apprendere i\n",
        "# parametri di scala e traslazione appropriati durante l'addestramento.\n",
        "# Il Batch Normalization (BatchNorm) aggiunge un tensore di pesi e uno di bias per consentire alla rete neurale di apprendere i parametri\n",
        "# di scala e traslazione appropriati durante l'addestramento.\n",
        "# Questi parametri vengono appresi durante l'addestramento"
      ],
      "metadata": {
        "id": "mbHrL2BwO4VE"
      },
      "execution_count": null,
      "outputs": []
    },
    {
      "cell_type": "markdown",
      "source": [
        "Load the model 2"
      ],
      "metadata": {
        "id": "GEg0cnZVkDXq"
      }
    },
    {
      "cell_type": "code",
      "source": [
        "state_dict = torch.load(\"/content/drive/MyDrive/assignment/modulo2/model_2.pth\")\n",
        "\n",
        "hidden_dim = 128\n",
        "n_classes = train_dset.get_num_classes()\n",
        "input_dim = len(train_dset[0][0])\n",
        "\n",
        "model_2 = model = SimpleClassifierBNv2(\n",
        "    input_dim,\n",
        "    hidden_dim,\n",
        "    n_classes,\n",
        "    n_hidden_layers=3\n",
        ")\n",
        "\n",
        "model_2.load_state_dict(state_dict)\n",
        "\n",
        "model_2.to(device)"
      ],
      "metadata": {
        "id": "vWXNzI7KjK6g"
      },
      "execution_count": null,
      "outputs": []
    },
    {
      "cell_type": "code",
      "source": [
        "from google.colab import drive\n",
        "drive.mount('/content/drive')"
      ],
      "metadata": {
        "id": "KHkVM8rqmLkI"
      },
      "execution_count": null,
      "outputs": []
    },
    {
      "cell_type": "markdown",
      "source": [
        "Testing model 2 and Confusion Matrix"
      ],
      "metadata": {
        "id": "eBvg_FQ9kFvL"
      }
    },
    {
      "cell_type": "code",
      "source": [
        "model_2.eval()\n",
        "confusion_matrix = torch.zeros(n_classes, n_classes, dtype=torch.int)\n",
        "\n",
        "with torch.no_grad():\n",
        "    for test_data in test_dl:\n",
        "        imgs, labels = test_data\n",
        "        imgs = imgs.to(device)\n",
        "        labels = labels.to(device)\n",
        "\n",
        "        scores = model_2(imgs)\n",
        "        preds = torch.argmax(scores, -1)\n",
        "\n",
        "        for lbl, pred in zip(labels.view(-1), preds.view(-1)):\n",
        "                confusion_matrix[lbl.int(), pred.int()] += 1\n",
        "\n",
        "test_acc = (torch.diagonal(confusion_matrix).sum() / confusion_matrix.sum()).item()\n",
        "print(test_acc)"
      ],
      "metadata": {
        "id": "YwAr4VsTkJFa"
      },
      "execution_count": null,
      "outputs": []
    },
    {
      "cell_type": "code",
      "source": [
        "plt.figure(figsize=(15, 10))\n",
        "conf_mtrx_df = pd.DataFrame(confusion_matrix)\n",
        "sn.heatmap(conf_mtrx_df, annot=True, fmt=\"d\");\n",
        "plt.show()"
      ],
      "metadata": {
        "id": "oJD1tEbJm0WV"
      },
      "execution_count": null,
      "outputs": []
    },
    {
      "cell_type": "markdown",
      "source": [
        "#CNN_1"
      ],
      "metadata": {
        "id": "D9zFLE74sHg_"
      }
    },
    {
      "cell_type": "code",
      "source": [
        "cfg = {\n",
        "    \"batch_size\": 4,\n",
        "}"
      ],
      "metadata": {
        "id": "KiKOsaTsxB2z"
      },
      "execution_count": null,
      "outputs": []
    },
    {
      "cell_type": "code",
      "source": [
        "train_dl = DataLoader(\n",
        "    train_dset,\n",
        "    batch_size=cfg['batch_size'],\n",
        "    shuffle=True,\n",
        "    pin_memory=True\n",
        ")\n",
        "val_dl = DataLoader(\n",
        "    val_dset,\n",
        "    batch_size=cfg['batch_size'],\n",
        "    shuffle=False\n",
        ")\n",
        "test_dl = DataLoader(\n",
        "    test_dset,\n",
        "    batch_size=cfg['batch_size']\n",
        ")"
      ],
      "metadata": {
        "id": "xM5YxZ2o1w01"
      },
      "execution_count": null,
      "outputs": []
    },
    {
      "cell_type": "code",
      "source": [
        "image, label = train_dset[0]\n",
        "print(image.shape)"
      ],
      "metadata": {
        "colab": {
          "base_uri": "https://localhost:8080/"
        },
        "id": "Yq1zAttx30hC",
        "outputId": "f98cba3e-eecc-4851-ab21-ef7e7c030119"
      },
      "execution_count": null,
      "outputs": [
        {
          "output_type": "stream",
          "name": "stdout",
          "text": [
            "torch.Size([3, 256, 256])\n"
          ]
        }
      ]
    },
    {
      "cell_type": "code",
      "source": [
        "def get_conv_bn_relu(in_channels, out_channels, kernel_size=3, stride=1, padding=1):\n",
        "    return nn.Sequential(\n",
        "        nn.Conv2d(in_channels, out_channels, kernel_size=kernel_size, stride=stride, padding=padding),\n",
        "        nn.BatchNorm2d(out_channels),\n",
        "        nn.ReLU()\n",
        "    )\n",
        "\n",
        "class CNNClassifier(nn.Module):\n",
        "    def __init__(self, num_classes):\n",
        "        super(CNNClassifier, self).__init__()\n",
        "\n",
        "        self.conv1 = get_conv_bn_relu(3, 32)\n",
        "        self.conv2 = get_conv_bn_relu(32, 64)\n",
        "        self.conv3 = get_conv_bn_relu(64, 128)\n",
        "        self.conv4 = get_conv_bn_relu(128, 256)\n",
        "\n",
        "        self.pool = nn.MaxPool2d(2, 2)\n",
        "        self.avg_pool = nn.AdaptiveAvgPool2d((1, 1))\n",
        "\n",
        "        self.fc = nn.Linear(256, num_classes)\n",
        "\n",
        "    def forward(self, x):\n",
        "        x = self.pool(self.conv1(x))\n",
        "        x = self.pool(self.conv2(x))\n",
        "        x = self.pool(self.conv3(x))\n",
        "        x = self.conv4(x)\n",
        "        x = self.avg_pool(x)\n",
        "        x = x.view(x.size(0), -1)\n",
        "        x = self.fc(x)\n",
        "        return x\n",
        "\n",
        "device = torch.device(\"cuda\" if torch.cuda.is_available() else \"cpu\")\n",
        "CNN_model = CNNClassifier(n_classes).to(device)\n",
        "\n",
        "summary(CNN_model, input_size=(3, 256, 256))\n"
      ],
      "metadata": {
        "colab": {
          "base_uri": "https://localhost:8080/"
        },
        "id": "fculTRudnow6",
        "outputId": "cc76622f-4c16-4648-88cd-96543c7d2f76"
      },
      "execution_count": null,
      "outputs": [
        {
          "output_type": "stream",
          "name": "stdout",
          "text": [
            "----------------------------------------------------------------\n",
            "        Layer (type)               Output Shape         Param #\n",
            "================================================================\n",
            "            Conv2d-1         [-1, 32, 256, 256]             896\n",
            "       BatchNorm2d-2         [-1, 32, 256, 256]              64\n",
            "              ReLU-3         [-1, 32, 256, 256]               0\n",
            "         MaxPool2d-4         [-1, 32, 128, 128]               0\n",
            "            Conv2d-5         [-1, 64, 128, 128]          18,496\n",
            "       BatchNorm2d-6         [-1, 64, 128, 128]             128\n",
            "              ReLU-7         [-1, 64, 128, 128]               0\n",
            "         MaxPool2d-8           [-1, 64, 64, 64]               0\n",
            "            Conv2d-9          [-1, 128, 64, 64]          73,856\n",
            "      BatchNorm2d-10          [-1, 128, 64, 64]             256\n",
            "             ReLU-11          [-1, 128, 64, 64]               0\n",
            "        MaxPool2d-12          [-1, 128, 32, 32]               0\n",
            "           Conv2d-13          [-1, 256, 32, 32]         295,168\n",
            "      BatchNorm2d-14          [-1, 256, 32, 32]             512\n",
            "             ReLU-15          [-1, 256, 32, 32]               0\n",
            "AdaptiveAvgPool2d-16            [-1, 256, 1, 1]               0\n",
            "           Linear-17                   [-1, 43]          11,051\n",
            "================================================================\n",
            "Total params: 400,427\n",
            "Trainable params: 400,427\n",
            "Non-trainable params: 0\n",
            "----------------------------------------------------------------\n",
            "Input size (MB): 0.75\n",
            "Forward/backward pass size (MB): 97.00\n",
            "Params size (MB): 1.53\n",
            "Estimated Total Size (MB): 99.28\n",
            "----------------------------------------------------------------\n"
          ]
        }
      ]
    },
    {
      "cell_type": "code",
      "source": [
        "CNN_model.to(device)\n",
        "\n",
        "optimizer = torch.optim.Adam(CNN_model.parameters(), lr=0.01)\n",
        "epochs = 20\n",
        "\n",
        "best_val_acc, best_params, best_epoch = train_loop(\n",
        "    CNN_model,\n",
        "    train_dl,\n",
        "    epochs,\n",
        "    optimizer,\n",
        "    val_dl,\n",
        "    verbose=True)"
      ],
      "metadata": {
        "colab": {
          "base_uri": "https://localhost:8080/",
          "height": 136,
          "referenced_widgets": [
            "b3efd95a1ac34920bef8ab82789cf9b8",
            "95393f9791134a9e99b6621d370d7e3f",
            "2b2a89f7f53a4a869a4957d62644e398",
            "826c17418283465ebbfe74a6ffdc4ad4",
            "d5185278f2e0479d8770823d54252561",
            "7a8d111d25d84978a414faba587fcf5c",
            "e9a5dded82664648b2ec1a0b4094a76b",
            "89a809435b394c4e929ceab71d518c0e",
            "556023f2d9d44472ac1878d74e56c33c",
            "a8370b0c6ae74bb88a63ad5917c101a4",
            "dc5a20e048c24e9f978da0a320005b22"
          ]
        },
        "id": "GnlLj15-z3TW",
        "outputId": "deada024-2a10-47f6-a998-1120c0e82bab"
      },
      "execution_count": null,
      "outputs": [
        {
          "output_type": "display_data",
          "data": {
            "text/plain": [
              "  0%|          | 0/20 [00:00<?, ?it/s]"
            ],
            "application/vnd.jupyter.widget-view+json": {
              "version_major": 2,
              "version_minor": 0,
              "model_id": "b3efd95a1ac34920bef8ab82789cf9b8"
            }
          },
          "metadata": {}
        },
        {
          "output_type": "stream",
          "name": "stdout",
          "text": [
            "Epoch 0: train loss 2.972 - train acc 0.199 - valid loss 2.889 - valid acc 0.223\n",
            "Epoch 5: train loss 1.496 - train acc 0.530 - valid loss 2.894 - valid acc 0.321\n",
            "Epoch 10: train loss 0.890 - train acc 0.712 - valid loss 2.167 - valid acc 0.503\n",
            "Epoch 15: train loss 0.570 - train acc 0.820 - valid loss 2.677 - valid acc 0.497\n",
            "Best epoch 14, best acc 0.5304054054054054\n"
          ]
        }
      ]
    },
    {
      "cell_type": "code",
      "source": [
        "!cp best_model.pth /content/drive/MyDrive/assignment"
      ],
      "metadata": {
        "id": "sT6UxAsl7v9y"
      },
      "execution_count": null,
      "outputs": []
    },
    {
      "cell_type": "code",
      "source": [
        "CNN_model.eval()\n",
        "confusion_matrix = torch.zeros(n_classes, n_classes, dtype=torch.int)\n",
        "\n",
        "with torch.no_grad():\n",
        "    for test_data in test_dl:\n",
        "        imgs, labels = test_data\n",
        "        imgs = imgs.to(device)\n",
        "        labels = labels.to(device)\n",
        "\n",
        "        scores = CNN_model(imgs)\n",
        "        preds = torch.argmax(scores, -1)\n",
        "\n",
        "        for lbl, pred in zip(labels.view(-1), preds.view(-1)):\n",
        "                confusion_matrix[lbl.int(), pred.int()] += 1\n",
        "\n",
        "test_acc = (torch.diagonal(confusion_matrix).sum() / confusion_matrix.sum()).item()\n",
        "print(test_acc)"
      ],
      "metadata": {
        "colab": {
          "base_uri": "https://localhost:8080/"
        },
        "id": "Q1kiLHvlBOFK",
        "outputId": "8371d451-90dc-4869-e0bc-6f50bde91b42"
      },
      "execution_count": null,
      "outputs": [
        {
          "output_type": "stream",
          "name": "stdout",
          "text": [
            "0.5975854992866516\n"
          ]
        }
      ]
    },
    {
      "cell_type": "code",
      "source": [
        "plt.figure(figsize=(15, 10))\n",
        "conf_mtrx_df = pd.DataFrame(confusion_matrix)\n",
        "sn.heatmap(conf_mtrx_df, annot=True, fmt=\"d\");\n",
        "plt.show()"
      ],
      "metadata": {
        "colab": {
          "base_uri": "https://localhost:8080/",
          "height": 836
        },
        "id": "ZO8Iv8EdBQp_",
        "outputId": "0cfbc926-1047-4a04-d64c-80af442b7dc1"
      },
      "execution_count": null,
      "outputs": [
        {
          "output_type": "display_data",
          "data": {
            "text/plain": [
              "<Figure size 1500x1000 with 2 Axes>"
            ],
            "image/png": "[encoded data removed]"
          },
          "metadata": {}
        }
      ]
    },
    {
      "cell_type": "markdown",
      "source": [
        "Ho raggiunto una precisione dui dati di test di circa 60 per cento\n",
        "Provo a migliorare il modello ulteriormente"
      ],
      "metadata": {
        "id": "RiDTmXwZFQok"
      }
    },
    {
      "cell_type": "markdown",
      "source": [
        "# CNN_2\n",
        "In questo caso provo a normalizzare i dati e a usare tecniche per la regolarizzazione per l'addestramento"
      ],
      "metadata": {
        "id": "lSjkyN96G-h8"
      }
    },
    {
      "cell_type": "code",
      "source": [
        "cfg = {\n",
        "    \"resize_size\": 256,\n",
        "    \"crop_size\": 224,\n",
        "\n",
        "    \"batch_size\": 4,\n",
        "    \"num_epochs\": 20,\n",
        "\n",
        "    \"lr\": 1e-3,\n",
        "    \"wd\": 1e-4,\n",
        "    \"step_size\": 5\n",
        "}"
      ],
      "metadata": {
        "id": "eK6CgtMHH8xp"
      },
      "execution_count": null,
      "outputs": []
    },
    {
      "cell_type": "code",
      "source": [
        "train_dset = GroceryStoreDataset('train', transform=T.Compose([T.Resize((256, 256)), T.ToTensor()]))\n",
        "images = []\n",
        "for image, _ in train_dset:\n",
        "    images.append(np.array(image))\n",
        "\n",
        "# Calcola le medie e le deviazioni standard delle immagini\n",
        "mean_training_data = np.mean(images, axis=(0, 2, 3))\n",
        "std_training_data = np.std(images, axis=(0, 2, 3))\n"
      ],
      "metadata": {
        "id": "gg7po_IGFYOs"
      },
      "execution_count": null,
      "outputs": []
    },
    {
      "cell_type": "code",
      "source": [
        "print(mean_training_data)\n",
        "print(std_training_data)"
      ],
      "metadata": {
        "colab": {
          "base_uri": "https://localhost:8080/"
        },
        "id": "LKC6yuLLHSr0",
        "outputId": "3d28c9d5-896e-43ed-aea9-8b8b933e57a8"
      },
      "execution_count": null,
      "outputs": [
        {
          "output_type": "stream",
          "name": "stdout",
          "text": [
            "[0.53058594 0.3963665  0.2563837 ]\n",
            "[0.24343865 0.22089787 0.20542131]\n"
          ]
        }
      ]
    },
    {
      "cell_type": "code",
      "source": [
        "data_transforms = {\n",
        "    \"train\": T.Compose([T.RandomResizedCrop(cfg[\"crop_size\"]),\n",
        "                        T.RandomHorizontalFlip(),\n",
        "                        T.ToTensor(),\n",
        "                        T.Normalize(mean_training_data, std_training_data)]),\n",
        "\n",
        "    \"val\": T.Compose([T.CenterCrop(cfg[\"crop_size\"]),\n",
        "                      T.ToTensor(),\n",
        "                      T.Normalize(mean_training_data, std_training_data)]),\n",
        "\n",
        "    \"test\": T.Compose([T.Resize((cfg[\"crop_size\"], cfg[\"crop_size\"])),\n",
        "                       T.ToTensor()])\n",
        "}\n",
        "\n",
        "train_dset = GroceryStoreDataset('train', transform=data_transforms['train'])\n",
        "val_dset = GroceryStoreDataset('val', transform=data_transforms['val'])\n",
        "test_dset = GroceryStoreDataset('test', transform=data_transforms['test'])"
      ],
      "metadata": {
        "id": "Un8d_NYMHwCC"
      },
      "execution_count": null,
      "outputs": []
    },
    {
      "cell_type": "code",
      "source": [
        "train_dl = DataLoader(\n",
        "    train_dset,\n",
        "    batch_size=cfg['batch_size'],\n",
        "    shuffle=True,\n",
        "    pin_memory=True\n",
        ")\n",
        "val_dl = DataLoader(\n",
        "    val_dset,\n",
        "    batch_size=cfg['batch_size'],\n",
        "    shuffle=False\n",
        ")\n",
        "test_dl = DataLoader(\n",
        "    test_dset,\n",
        "    batch_size=cfg['batch_size']\n",
        ")"
      ],
      "metadata": {
        "id": "q4SdpipPH3g0"
      },
      "execution_count": null,
      "outputs": []
    },
    {
      "cell_type": "code",
      "source": [
        "n_classes = train_dset.get_num_classes()\n",
        "image, label = train_dset[0]\n",
        "print(image.shape)"
      ],
      "metadata": {
        "colab": {
          "base_uri": "https://localhost:8080/"
        },
        "id": "nzJ4UVMbK-nM",
        "outputId": "9674332a-879a-4bf4-90a4-02fe6c50ff0b"
      },
      "execution_count": null,
      "outputs": [
        {
          "output_type": "stream",
          "name": "stdout",
          "text": [
            "torch.Size([3, 224, 224])\n"
          ]
        }
      ]
    },
    {
      "cell_type": "code",
      "source": [
        "!pip install -q torchmetrics"
      ],
      "metadata": {
        "colab": {
          "base_uri": "https://localhost:8080/"
        },
        "id": "krPH6DgwNrWz",
        "outputId": "795ebb98-4ab4-4ade-b6d0-415d0b6c303f"
      },
      "execution_count": null,
      "outputs": [
        {
          "output_type": "stream",
          "name": "stdout",
          "text": [
            "\u001b[2K     \u001b[90m━━━━━━━━━━━━━━━━━━━━━━━━━━━━━━━━━━━━━━━━\u001b[0m \u001b[32m868.8/868.8 kB\u001b[0m \u001b[31m8.7 MB/s\u001b[0m eta \u001b[36m0:00:00\u001b[0m\n",
            "\u001b[2K     \u001b[90m━━━━━━━━━━━━━━━━━━━━━━━━━━━━━━━━━━━━━━━━\u001b[0m \u001b[32m21.3/21.3 MB\u001b[0m \u001b[31m41.0 MB/s\u001b[0m eta \u001b[36m0:00:00\u001b[0m\n",
            "\u001b[?25h"
          ]
        }
      ]
    },
    {
      "cell_type": "code",
      "source": [
        "from torch.optim import AdamW\n",
        "from torch.optim.lr_scheduler import OneCycleLR\n",
        "from torchmetrics.classification.accuracy import Accuracy\n",
        "import copy"
      ],
      "metadata": {
        "id": "96TeVp22Mu2W"
      },
      "execution_count": null,
      "outputs": []
    },
    {
      "cell_type": "code",
      "source": [
        "import copy\n",
        "\n",
        "class Trainer:\n",
        "    def __init__(self,\n",
        "            model: nn.Module,\n",
        "            train_loader: DataLoader,\n",
        "            val_loader: DataLoader,\n",
        "            device: torch.device,\n",
        "            num_classes: int\n",
        "        ) -> None:\n",
        "        self.train_loader = train_loader\n",
        "        self.val_loader = val_loader\n",
        "        self.device = device\n",
        "        self.num_classes = num_classes\n",
        "        self.num_epochs = cfg[\"num_epochs\"]\n",
        "\n",
        "        self.model = model.to(device)\n",
        "        self.optimizer = AdamW(self.model.parameters(), lr=cfg[\"lr\"], weight_decay=cfg[\"wd\"])\n",
        "        num_steps = self.num_epochs * len(train_loader)\n",
        "        self.scheduler = OneCycleLR(self.optimizer, cfg[\"lr\"], total_steps=num_steps)\n",
        "\n",
        "        self.step = 0\n",
        "        self.best_acc = 0.0\n",
        "        self.best_model_path = \"best_model.pth\"\n",
        "\n",
        "    def train(self, verbose=False):\n",
        "        best_val_acc = 0\n",
        "        best_params = []\n",
        "        best_epoch = -1\n",
        "        for e in tqdm(range(self.num_epochs), desc=\"Epoch\"):\n",
        "            self.model.train() # modalità train\n",
        "\n",
        "            for imgs, labels in self.train_loader:\n",
        "                imgs = imgs.to(self.device)\n",
        "                labels = labels.to(self.device)\n",
        "\n",
        "                pred = self.model(imgs)\n",
        "                loss = F.cross_entropy(pred, labels)\n",
        "\n",
        "                self.optimizer.zero_grad()\n",
        "                loss.backward()\n",
        "                self.optimizer.step()\n",
        "                self.scheduler.step() # Aggiorna lo scheduler del learning rate.\n",
        "\n",
        "                self.step += 1\n",
        "\n",
        "            train_loss, train_acc = self.evaluate(self.train_loader)\n",
        "            val_loss, val_acc = self.evaluate(self.val_loader)\n",
        "\n",
        "            if verbose:\n",
        "                print(f\"Epoch {e}: train loss {train_loss:.3f} - train acc {train_acc:.3f}\" + (\"\" if self.val_loader is None else f\" - valid loss {val_loss:.3f} - valid acc {val_acc:.3f}\"))\n",
        "\n",
        "            if val_acc > best_val_acc:\n",
        "                best_val_acc = val_acc\n",
        "                best_params = copy.deepcopy(self.model.state_dict())\n",
        "                best_epoch = e\n",
        "                torch.save(best_params, self.best_model_path)\n",
        "\n",
        "        return best_val_acc, best_params, best_epoch\n",
        "\n",
        "    @torch.no_grad()\n",
        "    def evaluate(self, data_loader: DataLoader) -> Tuple[float, float]:\n",
        "        self.model.eval()\n",
        "\n",
        "        acc = Accuracy(\"multiclass\", num_classes=self.num_classes).to(self.device)\n",
        "\n",
        "        losses = []\n",
        "        for imgs, labels in data_loader:\n",
        "            imgs = imgs.to(self.device)\n",
        "            labels = labels.to(self.device)\n",
        "\n",
        "            pred = self.model(imgs)\n",
        "            loss = F.cross_entropy(pred, labels)\n",
        "            losses.append(loss.item())\n",
        "\n",
        "            pred_softmax = F.softmax(pred, dim=-1)\n",
        "            acc(pred_softmax, labels)\n",
        "\n",
        "        loss = sum(losses) / len(losses)\n",
        "        accuracy = acc.compute()\n",
        "\n",
        "        return loss, accuracy\n"
      ],
      "metadata": {
        "id": "bQpGl0ADKvNS"
      },
      "execution_count": null,
      "outputs": []
    },
    {
      "cell_type": "code",
      "source": [
        "def get_conv_bn_relu(in_channels, out_channels, kernel_size=3, stride=1, padding=1):\n",
        "    return nn.Sequential(\n",
        "        nn.Conv2d(in_channels, out_channels, kernel_size=kernel_size, stride=stride, padding=padding),\n",
        "        nn.BatchNorm2d(out_channels),\n",
        "        nn.ReLU()\n",
        "    )"
      ],
      "metadata": {
        "id": "OonvbCwIK2uA"
      },
      "execution_count": null,
      "outputs": []
    },
    {
      "cell_type": "code",
      "source": [
        "class CNNClassifier(nn.Module):\n",
        "    def __init__(self, num_classes):\n",
        "        super(CNNClassifier, self).__init__()\n",
        "\n",
        "        self.conv1 = get_conv_bn_relu(3, 32)\n",
        "        self.conv2 = get_conv_bn_relu(32, 64)\n",
        "        self.conv3 = get_conv_bn_relu(64, 128)\n",
        "        self.conv4 = get_conv_bn_relu(128, 256)\n",
        "        self.conv5 = get_conv_bn_relu(256, 512)\n",
        "        self.conv6 = get_conv_bn_relu(512, 1024)\n",
        "\n",
        "        self.pool = nn.MaxPool2d(2, 2)\n",
        "        self.avg_pool = nn.AdaptiveAvgPool2d((1, 1))\n",
        "\n",
        "        self.dropout = nn.Dropout(0.5)  # Aggiunto dropout\n",
        "\n",
        "        # Modificato l'ultimo strato lineare\n",
        "        self.fc = nn.Linear(1024, num_classes)\n",
        "\n",
        "        # dato che ho solo un layer lineare potrei provare a usarne due\n",
        "        # self.fc1 = nn.Linear(1024, 256)\n",
        "        # self.fc2 = nn.Linear(256, num_classes)\n",
        "        # uso soft max\n",
        "\n",
        "    def forward(self, x):\n",
        "        x = self.pool(self.conv1(x))\n",
        "        x = self.pool(self.conv2(x))\n",
        "        x = self.pool(self.conv3(x))\n",
        "        x = self.pool(self.conv4(x))\n",
        "        x = self.pool(self.conv5(x))\n",
        "        x = self.conv6(x)\n",
        "        x = self.avg_pool(x)\n",
        "        x = x.view(x.size(0), -1)\n",
        "        x = self.dropout(x)  # Applicato dropout\n",
        "        x = self.fc(x)\n",
        "        return x\n",
        "\n",
        "device = torch.device(\"cuda\" if torch.cuda.is_available() else \"cpu\")\n",
        "CNN_model_2 = CNNClassifier(n_classes).to(device)\n",
        "\n",
        "summary(\n",
        "    CNN_model_2,\n",
        "    input_size=(3, cfg[\"crop_size\"], cfg[\"crop_size\"])\n",
        ")"
      ],
      "metadata": {
        "colab": {
          "base_uri": "https://localhost:8080/"
        },
        "id": "CVzqzfpwLNvg",
        "outputId": "6cf56b6d-263f-482c-bbef-1c6fc0131666"
      },
      "execution_count": null,
      "outputs": [
        {
          "output_type": "stream",
          "name": "stdout",
          "text": [
            "----------------------------------------------------------------\n",
            "        Layer (type)               Output Shape         Param #\n",
            "================================================================\n",
            "            Conv2d-1         [-1, 32, 224, 224]             896\n",
            "       BatchNorm2d-2         [-1, 32, 224, 224]              64\n",
            "              ReLU-3         [-1, 32, 224, 224]               0\n",
            "         MaxPool2d-4         [-1, 32, 112, 112]               0\n",
            "            Conv2d-5         [-1, 64, 112, 112]          18,496\n",
            "       BatchNorm2d-6         [-1, 64, 112, 112]             128\n",
            "              ReLU-7         [-1, 64, 112, 112]               0\n",
            "         MaxPool2d-8           [-1, 64, 56, 56]               0\n",
            "            Conv2d-9          [-1, 128, 56, 56]          73,856\n",
            "      BatchNorm2d-10          [-1, 128, 56, 56]             256\n",
            "             ReLU-11          [-1, 128, 56, 56]               0\n",
            "        MaxPool2d-12          [-1, 128, 28, 28]               0\n",
            "           Conv2d-13          [-1, 256, 28, 28]         295,168\n",
            "      BatchNorm2d-14          [-1, 256, 28, 28]             512\n",
            "             ReLU-15          [-1, 256, 28, 28]               0\n",
            "        MaxPool2d-16          [-1, 256, 14, 14]               0\n",
            "           Conv2d-17          [-1, 512, 14, 14]       1,180,160\n",
            "      BatchNorm2d-18          [-1, 512, 14, 14]           1,024\n",
            "             ReLU-19          [-1, 512, 14, 14]               0\n",
            "        MaxPool2d-20            [-1, 512, 7, 7]               0\n",
            "           Conv2d-21           [-1, 1024, 7, 7]       4,719,616\n",
            "      BatchNorm2d-22           [-1, 1024, 7, 7]           2,048\n",
            "             ReLU-23           [-1, 1024, 7, 7]               0\n",
            "AdaptiveAvgPool2d-24           [-1, 1024, 1, 1]               0\n",
            "          Dropout-25                 [-1, 1024]               0\n",
            "           Linear-26                   [-1, 43]          44,075\n",
            "================================================================\n",
            "Total params: 6,336,299\n",
            "Trainable params: 6,336,299\n",
            "Non-trainable params: 0\n",
            "----------------------------------------------------------------\n",
            "Input size (MB): 0.57\n",
            "Forward/backward pass size (MB): 78.30\n",
            "Params size (MB): 24.17\n",
            "Estimated Total Size (MB): 103.05\n",
            "----------------------------------------------------------------\n"
          ]
        }
      ]
    },
    {
      "cell_type": "code",
      "source": [
        "trainer = Trainer(\n",
        "    CNN_model_2,\n",
        "    train_dl,\n",
        "    val_dl,\n",
        "    device,\n",
        "    n_classes\n",
        ")\n",
        "\n",
        "trainer.train()"
      ],
      "metadata": {
        "colab": {
          "base_uri": "https://localhost:8080/",
          "height": 371,
          "referenced_widgets": [
            "c6a0875ee58b400c8861cd496d73b0b2",
            "b298b0325f1c40a8a64b0e7a719987c0",
            "b17c6317e4cb457b95834d75969196cc",
            "1205fec067924d63917a95f3fdb9b1dd",
            "18ac5eee75ad485ea7665aef98da5012",
            "28eff94871884bdca10cb70e2d467115",
            "c12561167224468388986d8dbed70eac",
            "84faf8c31f17438cae1125bce3aaebfe",
            "2b1e4fe26e9346bdaf20d6b65e6135be",
            "22f393e02cd0486d962cdc7ba2902907",
            "f8685c19934c4adcab73dcc6affd9404"
          ]
        },
        "id": "U_Hxhrq8MHP-",
        "outputId": "771c72a9-3eb9-464d-8572-668da7da0c7d"
      },
      "execution_count": null,
      "outputs": [
        {
          "output_type": "display_data",
          "data": {
            "text/plain": [
              "Epoch:   0%|          | 0/20 [00:00<?, ?it/s]"
            ],
            "application/vnd.jupyter.widget-view+json": {
              "version_major": 2,
              "version_minor": 0,
              "model_id": "c6a0875ee58b400c8861cd496d73b0b2"
            }
          },
          "metadata": {}
        },
        {
          "output_type": "error",
          "ename": "KeyboardInterrupt",
          "evalue": "",
          "traceback": [
            "\u001b[0;31m---------------------------------------------------------------------------\u001b[0m",
            "\u001b[0;31mKeyboardInterrupt\u001b[0m                         Traceback (most recent call last)",
            "\u001b[0;32m<ipython-input-23-b22fa892626b>\u001b[0m in \u001b[0;36m<cell line: 9>\u001b[0;34m()\u001b[0m\n\u001b[1;32m      7\u001b[0m )\n\u001b[1;32m      8\u001b[0m \u001b[0;34m\u001b[0m\u001b[0m\n\u001b[0;32m----> 9\u001b[0;31m \u001b[0mtrainer\u001b[0m\u001b[0;34m.\u001b[0m\u001b[0mtrain\u001b[0m\u001b[0;34m(\u001b[0m\u001b[0;34m)\u001b[0m\u001b[0;34m\u001b[0m\u001b[0;34m\u001b[0m\u001b[0m\n\u001b[0m",
            "\u001b[0;32m<ipython-input-22-d44f6ace788f>\u001b[0m in \u001b[0;36mtrain\u001b[0;34m(self, verbose)\u001b[0m\n\u001b[1;32m     45\u001b[0m                 \u001b[0mself\u001b[0m\u001b[0;34m.\u001b[0m\u001b[0mstep\u001b[0m \u001b[0;34m+=\u001b[0m \u001b[0;36m1\u001b[0m\u001b[0;34m\u001b[0m\u001b[0;34m\u001b[0m\u001b[0m\n\u001b[1;32m     46\u001b[0m \u001b[0;34m\u001b[0m\u001b[0m\n\u001b[0;32m---> 47\u001b[0;31m             \u001b[0mtrain_loss\u001b[0m\u001b[0;34m,\u001b[0m \u001b[0mtrain_acc\u001b[0m \u001b[0;34m=\u001b[0m \u001b[0mself\u001b[0m\u001b[0;34m.\u001b[0m\u001b[0mevaluate\u001b[0m\u001b[0;34m(\u001b[0m\u001b[0mself\u001b[0m\u001b[0;34m.\u001b[0m\u001b[0mtrain_loader\u001b[0m\u001b[0;34m)\u001b[0m\u001b[0;34m\u001b[0m\u001b[0;34m\u001b[0m\u001b[0m\n\u001b[0m\u001b[1;32m     48\u001b[0m             \u001b[0mval_loss\u001b[0m\u001b[0;34m,\u001b[0m \u001b[0mval_acc\u001b[0m \u001b[0;34m=\u001b[0m \u001b[0mself\u001b[0m\u001b[0;34m.\u001b[0m\u001b[0mevaluate\u001b[0m\u001b[0;34m(\u001b[0m\u001b[0mself\u001b[0m\u001b[0;34m.\u001b[0m\u001b[0mval_loader\u001b[0m\u001b[0;34m)\u001b[0m\u001b[0;34m\u001b[0m\u001b[0;34m\u001b[0m\u001b[0m\n\u001b[1;32m     49\u001b[0m \u001b[0;34m\u001b[0m\u001b[0m\n",
            "\u001b[0;32m/usr/local/lib/python3.10/dist-packages/torch/utils/_contextlib.py\u001b[0m in \u001b[0;36mdecorate_context\u001b[0;34m(*args, **kwargs)\u001b[0m\n\u001b[1;32m    113\u001b[0m     \u001b[0;32mdef\u001b[0m \u001b[0mdecorate_context\u001b[0m\u001b[0;34m(\u001b[0m\u001b[0;34m*\u001b[0m\u001b[0margs\u001b[0m\u001b[0;34m,\u001b[0m \u001b[0;34m**\u001b[0m\u001b[0mkwargs\u001b[0m\u001b[0;34m)\u001b[0m\u001b[0;34m:\u001b[0m\u001b[0;34m\u001b[0m\u001b[0;34m\u001b[0m\u001b[0m\n\u001b[1;32m    114\u001b[0m         \u001b[0;32mwith\u001b[0m \u001b[0mctx_factory\u001b[0m\u001b[0;34m(\u001b[0m\u001b[0;34m)\u001b[0m\u001b[0;34m:\u001b[0m\u001b[0;34m\u001b[0m\u001b[0;34m\u001b[0m\u001b[0m\n\u001b[0;32m--> 115\u001b[0;31m             \u001b[0;32mreturn\u001b[0m \u001b[0mfunc\u001b[0m\u001b[0;34m(\u001b[0m\u001b[0;34m*\u001b[0m\u001b[0margs\u001b[0m\u001b[0;34m,\u001b[0m \u001b[0;34m**\u001b[0m\u001b[0mkwargs\u001b[0m\u001b[0;34m)\u001b[0m\u001b[0;34m\u001b[0m\u001b[0;34m\u001b[0m\u001b[0m\n\u001b[0m\u001b[1;32m    116\u001b[0m \u001b[0;34m\u001b[0m\u001b[0m\n\u001b[1;32m    117\u001b[0m     \u001b[0;32mreturn\u001b[0m \u001b[0mdecorate_context\u001b[0m\u001b[0;34m\u001b[0m\u001b[0;34m\u001b[0m\u001b[0m\n",
            "\u001b[0;32m<ipython-input-22-d44f6ace788f>\u001b[0m in \u001b[0;36mevaluate\u001b[0;34m(self, data_loader)\u001b[0m\n\u001b[1;32m     70\u001b[0m             \u001b[0mlabels\u001b[0m \u001b[0;34m=\u001b[0m \u001b[0mlabels\u001b[0m\u001b[0;34m.\u001b[0m\u001b[0mto\u001b[0m\u001b[0;34m(\u001b[0m\u001b[0mself\u001b[0m\u001b[0;34m.\u001b[0m\u001b[0mdevice\u001b[0m\u001b[0;34m)\u001b[0m\u001b[0;34m\u001b[0m\u001b[0;34m\u001b[0m\u001b[0m\n\u001b[1;32m     71\u001b[0m \u001b[0;34m\u001b[0m\u001b[0m\n\u001b[0;32m---> 72\u001b[0;31m             \u001b[0mpred\u001b[0m \u001b[0;34m=\u001b[0m \u001b[0mself\u001b[0m\u001b[0;34m.\u001b[0m\u001b[0mmodel\u001b[0m\u001b[0;34m(\u001b[0m\u001b[0mimgs\u001b[0m\u001b[0;34m)\u001b[0m\u001b[0;34m\u001b[0m\u001b[0;34m\u001b[0m\u001b[0m\n\u001b[0m\u001b[1;32m     73\u001b[0m             \u001b[0mloss\u001b[0m \u001b[0;34m=\u001b[0m \u001b[0mF\u001b[0m\u001b[0;34m.\u001b[0m\u001b[0mcross_entropy\u001b[0m\u001b[0;34m(\u001b[0m\u001b[0mpred\u001b[0m\u001b[0;34m,\u001b[0m \u001b[0mlabels\u001b[0m\u001b[0;34m)\u001b[0m\u001b[0;34m\u001b[0m\u001b[0;34m\u001b[0m\u001b[0m\n\u001b[1;32m     74\u001b[0m             \u001b[0mlosses\u001b[0m\u001b[0;34m.\u001b[0m\u001b[0mappend\u001b[0m\u001b[0;34m(\u001b[0m\u001b[0mloss\u001b[0m\u001b[0;34m.\u001b[0m\u001b[0mitem\u001b[0m\u001b[0;34m(\u001b[0m\u001b[0;34m)\u001b[0m\u001b[0;34m)\u001b[0m\u001b[0;34m\u001b[0m\u001b[0;34m\u001b[0m\u001b[0m\n",
            "\u001b[0;32m/usr/local/lib/python3.10/dist-packages/torch/nn/modules/module.py\u001b[0m in \u001b[0;36m_wrapped_call_impl\u001b[0;34m(self, *args, **kwargs)\u001b[0m\n\u001b[1;32m   1530\u001b[0m             \u001b[0;32mreturn\u001b[0m \u001b[0mself\u001b[0m\u001b[0;34m.\u001b[0m\u001b[0m_compiled_call_impl\u001b[0m\u001b[0;34m(\u001b[0m\u001b[0;34m*\u001b[0m\u001b[0margs\u001b[0m\u001b[0;34m,\u001b[0m \u001b[0;34m**\u001b[0m\u001b[0mkwargs\u001b[0m\u001b[0;34m)\u001b[0m  \u001b[0;31m# type: ignore[misc]\u001b[0m\u001b[0;34m\u001b[0m\u001b[0;34m\u001b[0m\u001b[0m\n\u001b[1;32m   1531\u001b[0m         \u001b[0;32melse\u001b[0m\u001b[0;34m:\u001b[0m\u001b[0;34m\u001b[0m\u001b[0;34m\u001b[0m\u001b[0m\n\u001b[0;32m-> 1532\u001b[0;31m             \u001b[0;32mreturn\u001b[0m \u001b[0mself\u001b[0m\u001b[0;34m.\u001b[0m\u001b[0m_call_impl\u001b[0m\u001b[0;34m(\u001b[0m\u001b[0;34m*\u001b[0m\u001b[0margs\u001b[0m\u001b[0;34m,\u001b[0m \u001b[0;34m**\u001b[0m\u001b[0mkwargs\u001b[0m\u001b[0;34m)\u001b[0m\u001b[0;34m\u001b[0m\u001b[0;34m\u001b[0m\u001b[0m\n\u001b[0m\u001b[1;32m   1533\u001b[0m \u001b[0;34m\u001b[0m\u001b[0m\n\u001b[1;32m   1534\u001b[0m     \u001b[0;32mdef\u001b[0m \u001b[0m_call_impl\u001b[0m\u001b[0;34m(\u001b[0m\u001b[0mself\u001b[0m\u001b[0;34m,\u001b[0m \u001b[0;34m*\u001b[0m\u001b[0margs\u001b[0m\u001b[0;34m,\u001b[0m \u001b[0;34m**\u001b[0m\u001b[0mkwargs\u001b[0m\u001b[0;34m)\u001b[0m\u001b[0;34m:\u001b[0m\u001b[0;34m\u001b[0m\u001b[0;34m\u001b[0m\u001b[0m\n",
            "\u001b[0;32m/usr/local/lib/python3.10/dist-packages/torch/nn/modules/module.py\u001b[0m in \u001b[0;36m_call_impl\u001b[0;34m(self, *args, **kwargs)\u001b[0m\n\u001b[1;32m   1539\u001b[0m                 \u001b[0;32mor\u001b[0m \u001b[0m_global_backward_pre_hooks\u001b[0m \u001b[0;32mor\u001b[0m \u001b[0m_global_backward_hooks\u001b[0m\u001b[0;34m\u001b[0m\u001b[0;34m\u001b[0m\u001b[0m\n\u001b[1;32m   1540\u001b[0m                 or _global_forward_hooks or _global_forward_pre_hooks):\n\u001b[0;32m-> 1541\u001b[0;31m             \u001b[0;32mreturn\u001b[0m \u001b[0mforward_call\u001b[0m\u001b[0;34m(\u001b[0m\u001b[0;34m*\u001b[0m\u001b[0margs\u001b[0m\u001b[0;34m,\u001b[0m \u001b[0;34m**\u001b[0m\u001b[0mkwargs\u001b[0m\u001b[0;34m)\u001b[0m\u001b[0;34m\u001b[0m\u001b[0;34m\u001b[0m\u001b[0m\n\u001b[0m\u001b[1;32m   1542\u001b[0m \u001b[0;34m\u001b[0m\u001b[0m\n\u001b[1;32m   1543\u001b[0m         \u001b[0;32mtry\u001b[0m\u001b[0;34m:\u001b[0m\u001b[0;34m\u001b[0m\u001b[0;34m\u001b[0m\u001b[0m\n",
            "\u001b[0;32m<ipython-input-21-1ac6548acc8d>\u001b[0m in \u001b[0;36mforward\u001b[0;34m(self, x)\u001b[0m\n\u001b[1;32m     19\u001b[0m \u001b[0;34m\u001b[0m\u001b[0m\n\u001b[1;32m     20\u001b[0m     \u001b[0;32mdef\u001b[0m \u001b[0mforward\u001b[0m\u001b[0;34m(\u001b[0m\u001b[0mself\u001b[0m\u001b[0;34m,\u001b[0m \u001b[0mx\u001b[0m\u001b[0;34m)\u001b[0m\u001b[0;34m:\u001b[0m\u001b[0;34m\u001b[0m\u001b[0;34m\u001b[0m\u001b[0m\n\u001b[0;32m---> 21\u001b[0;31m         \u001b[0mx\u001b[0m \u001b[0;34m=\u001b[0m \u001b[0mself\u001b[0m\u001b[0;34m.\u001b[0m\u001b[0mpool\u001b[0m\u001b[0;34m(\u001b[0m\u001b[0mself\u001b[0m\u001b[0;34m.\u001b[0m\u001b[0mconv1\u001b[0m\u001b[0;34m(\u001b[0m\u001b[0mx\u001b[0m\u001b[0;34m)\u001b[0m\u001b[0;34m)\u001b[0m\u001b[0;34m\u001b[0m\u001b[0;34m\u001b[0m\u001b[0m\n\u001b[0m\u001b[1;32m     22\u001b[0m         \u001b[0mx\u001b[0m \u001b[0;34m=\u001b[0m \u001b[0mself\u001b[0m\u001b[0;34m.\u001b[0m\u001b[0mpool\u001b[0m\u001b[0;34m(\u001b[0m\u001b[0mself\u001b[0m\u001b[0;34m.\u001b[0m\u001b[0mconv2\u001b[0m\u001b[0;34m(\u001b[0m\u001b[0mx\u001b[0m\u001b[0;34m)\u001b[0m\u001b[0;34m)\u001b[0m\u001b[0;34m\u001b[0m\u001b[0;34m\u001b[0m\u001b[0m\n\u001b[1;32m     23\u001b[0m         \u001b[0mx\u001b[0m \u001b[0;34m=\u001b[0m \u001b[0mself\u001b[0m\u001b[0;34m.\u001b[0m\u001b[0mpool\u001b[0m\u001b[0;34m(\u001b[0m\u001b[0mself\u001b[0m\u001b[0;34m.\u001b[0m\u001b[0mconv3\u001b[0m\u001b[0;34m(\u001b[0m\u001b[0mx\u001b[0m\u001b[0;34m)\u001b[0m\u001b[0;34m)\u001b[0m\u001b[0;34m\u001b[0m\u001b[0;34m\u001b[0m\u001b[0m\n",
            "\u001b[0;32m/usr/local/lib/python3.10/dist-packages/torch/nn/modules/module.py\u001b[0m in \u001b[0;36m_wrapped_call_impl\u001b[0;34m(self, *args, **kwargs)\u001b[0m\n\u001b[1;32m   1530\u001b[0m             \u001b[0;32mreturn\u001b[0m \u001b[0mself\u001b[0m\u001b[0;34m.\u001b[0m\u001b[0m_compiled_call_impl\u001b[0m\u001b[0;34m(\u001b[0m\u001b[0;34m*\u001b[0m\u001b[0margs\u001b[0m\u001b[0;34m,\u001b[0m \u001b[0;34m**\u001b[0m\u001b[0mkwargs\u001b[0m\u001b[0;34m)\u001b[0m  \u001b[0;31m# type: ignore[misc]\u001b[0m\u001b[0;34m\u001b[0m\u001b[0;34m\u001b[0m\u001b[0m\n\u001b[1;32m   1531\u001b[0m         \u001b[0;32melse\u001b[0m\u001b[0;34m:\u001b[0m\u001b[0;34m\u001b[0m\u001b[0;34m\u001b[0m\u001b[0m\n\u001b[0;32m-> 1532\u001b[0;31m             \u001b[0;32mreturn\u001b[0m \u001b[0mself\u001b[0m\u001b[0;34m.\u001b[0m\u001b[0m_call_impl\u001b[0m\u001b[0;34m(\u001b[0m\u001b[0;34m*\u001b[0m\u001b[0margs\u001b[0m\u001b[0;34m,\u001b[0m \u001b[0;34m**\u001b[0m\u001b[0mkwargs\u001b[0m\u001b[0;34m)\u001b[0m\u001b[0;34m\u001b[0m\u001b[0;34m\u001b[0m\u001b[0m\n\u001b[0m\u001b[1;32m   1533\u001b[0m \u001b[0;34m\u001b[0m\u001b[0m\n\u001b[1;32m   1534\u001b[0m     \u001b[0;32mdef\u001b[0m \u001b[0m_call_impl\u001b[0m\u001b[0;34m(\u001b[0m\u001b[0mself\u001b[0m\u001b[0;34m,\u001b[0m \u001b[0;34m*\u001b[0m\u001b[0margs\u001b[0m\u001b[0;34m,\u001b[0m \u001b[0;34m**\u001b[0m\u001b[0mkwargs\u001b[0m\u001b[0;34m)\u001b[0m\u001b[0;34m:\u001b[0m\u001b[0;34m\u001b[0m\u001b[0;34m\u001b[0m\u001b[0m\n",
            "\u001b[0;32m/usr/local/lib/python3.10/dist-packages/torch/nn/modules/module.py\u001b[0m in \u001b[0;36m_call_impl\u001b[0;34m(self, *args, **kwargs)\u001b[0m\n\u001b[1;32m   1539\u001b[0m                 \u001b[0;32mor\u001b[0m \u001b[0m_global_backward_pre_hooks\u001b[0m \u001b[0;32mor\u001b[0m \u001b[0m_global_backward_hooks\u001b[0m\u001b[0;34m\u001b[0m\u001b[0;34m\u001b[0m\u001b[0m\n\u001b[1;32m   1540\u001b[0m                 or _global_forward_hooks or _global_forward_pre_hooks):\n\u001b[0;32m-> 1541\u001b[0;31m             \u001b[0;32mreturn\u001b[0m \u001b[0mforward_call\u001b[0m\u001b[0;34m(\u001b[0m\u001b[0;34m*\u001b[0m\u001b[0margs\u001b[0m\u001b[0;34m,\u001b[0m \u001b[0;34m**\u001b[0m\u001b[0mkwargs\u001b[0m\u001b[0;34m)\u001b[0m\u001b[0;34m\u001b[0m\u001b[0;34m\u001b[0m\u001b[0m\n\u001b[0m\u001b[1;32m   1542\u001b[0m \u001b[0;34m\u001b[0m\u001b[0m\n\u001b[1;32m   1543\u001b[0m         \u001b[0;32mtry\u001b[0m\u001b[0;34m:\u001b[0m\u001b[0;34m\u001b[0m\u001b[0;34m\u001b[0m\u001b[0m\n",
            "\u001b[0;32m/usr/local/lib/python3.10/dist-packages/torch/nn/modules/pooling.py\u001b[0m in \u001b[0;36mforward\u001b[0;34m(self, input)\u001b[0m\n\u001b[1;32m    162\u001b[0m \u001b[0;34m\u001b[0m\u001b[0m\n\u001b[1;32m    163\u001b[0m     \u001b[0;32mdef\u001b[0m \u001b[0mforward\u001b[0m\u001b[0;34m(\u001b[0m\u001b[0mself\u001b[0m\u001b[0;34m,\u001b[0m \u001b[0minput\u001b[0m\u001b[0;34m:\u001b[0m \u001b[0mTensor\u001b[0m\u001b[0;34m)\u001b[0m\u001b[0;34m:\u001b[0m\u001b[0;34m\u001b[0m\u001b[0;34m\u001b[0m\u001b[0m\n\u001b[0;32m--> 164\u001b[0;31m         return F.max_pool2d(input, self.kernel_size, self.stride,\n\u001b[0m\u001b[1;32m    165\u001b[0m                             \u001b[0mself\u001b[0m\u001b[0;34m.\u001b[0m\u001b[0mpadding\u001b[0m\u001b[0;34m,\u001b[0m \u001b[0mself\u001b[0m\u001b[0;34m.\u001b[0m\u001b[0mdilation\u001b[0m\u001b[0;34m,\u001b[0m \u001b[0mceil_mode\u001b[0m\u001b[0;34m=\u001b[0m\u001b[0mself\u001b[0m\u001b[0;34m.\u001b[0m\u001b[0mceil_mode\u001b[0m\u001b[0;34m,\u001b[0m\u001b[0;34m\u001b[0m\u001b[0;34m\u001b[0m\u001b[0m\n\u001b[1;32m    166\u001b[0m                             return_indices=self.return_indices)\n",
            "\u001b[0;32m/usr/local/lib/python3.10/dist-packages/torch/_jit_internal.py\u001b[0m in \u001b[0;36mfn\u001b[0;34m(*args, **kwargs)\u001b[0m\n\u001b[1;32m    495\u001b[0m             \u001b[0;32mreturn\u001b[0m \u001b[0mif_true\u001b[0m\u001b[0;34m(\u001b[0m\u001b[0;34m*\u001b[0m\u001b[0margs\u001b[0m\u001b[0;34m,\u001b[0m \u001b[0;34m**\u001b[0m\u001b[0mkwargs\u001b[0m\u001b[0;34m)\u001b[0m\u001b[0;34m\u001b[0m\u001b[0;34m\u001b[0m\u001b[0m\n\u001b[1;32m    496\u001b[0m         \u001b[0;32melse\u001b[0m\u001b[0;34m:\u001b[0m\u001b[0;34m\u001b[0m\u001b[0;34m\u001b[0m\u001b[0m\n\u001b[0;32m--> 497\u001b[0;31m             \u001b[0;32mreturn\u001b[0m \u001b[0mif_false\u001b[0m\u001b[0;34m(\u001b[0m\u001b[0;34m*\u001b[0m\u001b[0margs\u001b[0m\u001b[0;34m,\u001b[0m \u001b[0;34m**\u001b[0m\u001b[0mkwargs\u001b[0m\u001b[0;34m)\u001b[0m\u001b[0;34m\u001b[0m\u001b[0;34m\u001b[0m\u001b[0m\n\u001b[0m\u001b[1;32m    498\u001b[0m \u001b[0;34m\u001b[0m\u001b[0m\n\u001b[1;32m    499\u001b[0m     \u001b[0;32mif\u001b[0m \u001b[0mif_true\u001b[0m\u001b[0;34m.\u001b[0m\u001b[0m__doc__\u001b[0m \u001b[0;32mis\u001b[0m \u001b[0;32mNone\u001b[0m \u001b[0;32mand\u001b[0m \u001b[0mif_false\u001b[0m\u001b[0;34m.\u001b[0m\u001b[0m__doc__\u001b[0m \u001b[0;32mis\u001b[0m \u001b[0;32mnot\u001b[0m \u001b[0;32mNone\u001b[0m\u001b[0;34m:\u001b[0m\u001b[0;34m\u001b[0m\u001b[0;34m\u001b[0m\u001b[0m\n",
            "\u001b[0;32m/usr/local/lib/python3.10/dist-packages/torch/nn/functional.py\u001b[0m in \u001b[0;36m_max_pool2d\u001b[0;34m(input, kernel_size, stride, padding, dilation, ceil_mode, return_indices)\u001b[0m\n\u001b[1;32m    794\u001b[0m     \u001b[0;32mif\u001b[0m \u001b[0mstride\u001b[0m \u001b[0;32mis\u001b[0m \u001b[0;32mNone\u001b[0m\u001b[0;34m:\u001b[0m\u001b[0;34m\u001b[0m\u001b[0;34m\u001b[0m\u001b[0m\n\u001b[1;32m    795\u001b[0m         \u001b[0mstride\u001b[0m \u001b[0;34m=\u001b[0m \u001b[0mtorch\u001b[0m\u001b[0;34m.\u001b[0m\u001b[0mjit\u001b[0m\u001b[0;34m.\u001b[0m\u001b[0mannotate\u001b[0m\u001b[0;34m(\u001b[0m\u001b[0mList\u001b[0m\u001b[0;34m[\u001b[0m\u001b[0mint\u001b[0m\u001b[0;34m]\u001b[0m\u001b[0;34m,\u001b[0m \u001b[0;34m[\u001b[0m\u001b[0;34m]\u001b[0m\u001b[0;34m)\u001b[0m\u001b[0;34m\u001b[0m\u001b[0;34m\u001b[0m\u001b[0m\n\u001b[0;32m--> 796\u001b[0;31m     \u001b[0;32mreturn\u001b[0m \u001b[0mtorch\u001b[0m\u001b[0;34m.\u001b[0m\u001b[0mmax_pool2d\u001b[0m\u001b[0;34m(\u001b[0m\u001b[0minput\u001b[0m\u001b[0;34m,\u001b[0m \u001b[0mkernel_size\u001b[0m\u001b[0;34m,\u001b[0m \u001b[0mstride\u001b[0m\u001b[0;34m,\u001b[0m \u001b[0mpadding\u001b[0m\u001b[0;34m,\u001b[0m \u001b[0mdilation\u001b[0m\u001b[0;34m,\u001b[0m \u001b[0mceil_mode\u001b[0m\u001b[0;34m)\u001b[0m\u001b[0;34m\u001b[0m\u001b[0;34m\u001b[0m\u001b[0m\n\u001b[0m\u001b[1;32m    797\u001b[0m \u001b[0;34m\u001b[0m\u001b[0m\n\u001b[1;32m    798\u001b[0m \u001b[0;34m\u001b[0m\u001b[0m\n",
            "\u001b[0;31mKeyboardInterrupt\u001b[0m: "
          ]
        }
      ]
    },
    {
      "cell_type": "code",
      "source": [
        "!cp best_model.pth /content/drive/MyDrive/assignment"
      ],
      "metadata": {
        "id": "kuOUNlffSEtj"
      },
      "execution_count": null,
      "outputs": []
    },
    {
      "cell_type": "code",
      "source": [
        "CNN_model_2.eval()\n",
        "confusion_matrix = torch.zeros(n_classes, n_classes, dtype=torch.int)\n",
        "\n",
        "with torch.no_grad():\n",
        "    for test_data in test_dl:\n",
        "        imgs, labels = test_data\n",
        "        imgs = imgs.to(device)\n",
        "        labels = labels.to(device)\n",
        "\n",
        "        scores = CNN_model_2(imgs)\n",
        "        preds = torch.argmax(scores, -1)\n",
        "\n",
        "        for lbl, pred in zip(labels.view(-1), preds.view(-1)):\n",
        "                confusion_matrix[lbl.int(), pred.int()] += 1\n",
        "\n",
        "test_acc = (torch.diagonal(confusion_matrix).sum() / confusion_matrix.sum()).item()\n",
        "print(test_acc)"
      ],
      "metadata": {
        "id": "sXKh1XAqSJW8"
      },
      "execution_count": null,
      "outputs": []
    },
    {
      "cell_type": "code",
      "source": [
        "plt.figure(figsize=(15, 10))\n",
        "conf_mtrx_df = pd.DataFrame(confusion_matrix)\n",
        "sn.heatmap(conf_mtrx_df, annot=True, fmt=\"d\");\n",
        "plt.show()"
      ],
      "metadata": {
        "id": "cGCurXyISQFY"
      },
      "execution_count": null,
      "outputs": []
    },
    {
      "cell_type": "markdown",
      "metadata": {
        "id": "gkWEqSPoUIL3"
      },
      "source": [
        "## Part 2: fine-tune an existing network\n",
        "\n",
        "Your goal is to fine-tune a pretrained **ResNet-18** model on `GroceryStoreDataset`. Use the implementation provided by PyTorch, do not implement it yourselves! (i.e. exactly what you **could not** do in the first part of the assignment). Specifically, you must use the PyTorch ResNet-18 model pretrained on ImageNet-1K (V1). Divide your fine-tuning into two parts:\n",
        "\n",
        "1. First, fine-tune the Resnet-18 with the same training hyperparameters you used for your best model in the first part of the assignment.\n",
        "1. Then, tweak the training hyperparameters in order to increase the accuracy on the validation split of `GroceryStoreDataset`. Justify your choices by analyzing the training plots and/or citing sources that guided you in your decisions (papers, blog posts, YouTube videos, or whatever else you find enlightening). You should consider yourselves satisfied once you obtain a classification accuracy on the **validation** split **between 80 and 90%**."
      ]
    },
    {
      "cell_type": "code",
      "source": [
        "from torchvision.models import resnet18, ResNet18_Weights"
      ],
      "metadata": {
        "id": "-IuxoBNYYojJ"
      },
      "execution_count": null,
      "outputs": []
    },
    {
      "cell_type": "code",
      "source": [
        "n_classes = train_dset.get_num_classes()"
      ],
      "metadata": {
        "id": "csqJ37gUYoFy"
      },
      "execution_count": null,
      "outputs": []
    },
    {
      "cell_type": "markdown",
      "source": [
        "## Part 1"
      ],
      "metadata": {
        "id": "jP4BGtimY9PY"
      }
    },
    {
      "cell_type": "code",
      "source": [
        "class GroceryModelResNet(nn.Module):\n",
        "    def __init__(self, num_classes):\n",
        "        super().__init__()\n",
        "        self.resnet = resnet18(weights=ResNet18_Weights.IMAGENET1K_V1)\n",
        "        self.resnet.fc = nn.Linear(self.resnet.fc.in_features, num_classes)\n",
        "\n",
        "        self.freezeAll()\n",
        "        self.unfreezeLinear()\n",
        "\n",
        "\n",
        "    def freezeAll(self):\n",
        "        for p in self.resnet.parameters():\n",
        "            p.requires_grad = False\n",
        "\n",
        "    def unfreezeAll(self):\n",
        "        for p in self.resnet.parameters():\n",
        "            p.requires_grad = True\n",
        "\n",
        "    def freezeLinear(self):\n",
        "        for p in self.resnet.fc.parameters():\n",
        "            p.requires_grad = False\n",
        "\n",
        "    def unfreezeLinear(self):\n",
        "        for p in self.resnet.fc.parameters():\n",
        "            p.requires_grad = True\n",
        "\n",
        "\n",
        "    def forward(self, x):\n",
        "        return self.resnet(x)"
      ],
      "metadata": {
        "id": "U1qKN8wmZJfd"
      },
      "execution_count": null,
      "outputs": []
    },
    {
      "cell_type": "code",
      "source": [
        "model = GroceryModelResNet(NUM_CLASSES)\n",
        "print_model_parameters(model)\n",
        "summary(model, (3, 10, 10), device=\"cpu\")"
      ],
      "metadata": {
        "id": "owafYr4zf5FO"
      },
      "execution_count": null,
      "outputs": []
    },
    {
      "cell_type": "code",
      "source": [
        "NN_1 = resnet18(weights=ResNet18_Weights, num_classes=n_classes).to(device)\n",
        "\n",
        "summary(\n",
        "    NN_1,\n",
        "    input_size=(3, cfg[\"crop_size\"], cfg[\"crop_size\"])\n",
        ")"
      ],
      "metadata": {
        "id": "GwP0bBgeYgrF"
      },
      "execution_count": null,
      "outputs": []
    },
    {
      "cell_type": "code",
      "source": [
        "# presumo questi siano i training hyperparameters\n",
        "cfg = {\n",
        "    \"resize_size\": 256,\n",
        "    \"crop_size\": 224,\n",
        "\n",
        "    \"batch_size\": 4,\n",
        "    \"num_epochs\": 20,\n",
        "\n",
        "    \"lr\": 1e-3,\n",
        "    \"wd\": 1e-4,\n",
        "    \"step_size\": 5\n",
        "}"
      ],
      "metadata": {
        "id": "uglo5p3UYv2c"
      },
      "execution_count": null,
      "outputs": []
    },
    {
      "cell_type": "markdown",
      "source": [
        "## Part 2"
      ],
      "metadata": {
        "id": "d7A1SDkuZIPE"
      }
    },
    {
      "cell_type": "code",
      "source": [
        "fix_random(SEED)\n",
        "\n",
        "model = GroceryModelResNet(NUM_CLASSES).to(device)\n",
        "loss = default_args[\"Loss\"](**default_args[\"loss_args\"])\n",
        "optimizer = default_args[\"Optimizer\"](model.parameters(), **default_args[\"optimizer_args\"])\n",
        "scheduler = None\n",
        "if default_args[\"Scheduler\"] is not None:\n",
        "    scheduler = default_args[\"Scheduler\"](optimizer, **default_args[\"scheduler_args\"])\n",
        "\n",
        "history_resnet = train(\n",
        "    model = model,\n",
        "    loss_fn = loss,\n",
        "    optimizer = optimizer,\n",
        "    scheduler = scheduler,\n",
        "    train_dl = DataLoader(train_dset, default_args[\"batch_size\"], shuffle=True),\n",
        "    val_dl = DataLoader(val_dset, 256),\n",
        "    device = device,\n",
        "    n_epochs = default_args[\"epochs\"],\n",
        "    early_stop_val_acc = 0.85,\n",
        "    checkpoint_path = f\"./checkpoints_{GroceryModelResNet.__name__}\",\n",
        "    logging_path = f\"./logs_{GroceryModelResNet.__name__}\"\n",
        ")\n"
      ],
      "metadata": {
        "id": "KPSnWzs6gFLa"
      },
      "execution_count": null,
      "outputs": []
    },
    {
      "cell_type": "code",
      "source": [
        "fix_random(SEED)\n",
        "model.unfreezeAll()\n",
        "\n",
        "history_resnet_finetune = train(\n",
        "    model = model,\n",
        "    loss_fn = loss,\n",
        "    optimizer = optim.Adam(model.parameters(), lr=1e-5, weight_decay=0.1),\n",
        "    scheduler = None,\n",
        "    train_dl = DataLoader(train_dset, default_args[\"batch_size\"], shuffle=True),\n",
        "    val_dl = DataLoader(val_dset, 256),\n",
        "    device = device,\n",
        "    n_epochs = 100,\n",
        "    early_stop_val_acc = 0.9,\n",
        "    checkpoint_path = f\"./checkpoints_{GroceryModelResNet.__name__}_finetune\",\n",
        "    logging_path = f\"./logs_{GroceryModelResNet.__name__}_finetune\"\n",
        ")"
      ],
      "metadata": {
        "id": "1pN3GnjogKIk"
      },
      "execution_count": null,
      "outputs": []
    }
  ],
  "metadata": {
    "colab": {
      "gpuType": "T4",
      "provenance": [],
      "collapsed_sections": [
        "nNWk9E43zuZf",
        "iHPY8tsRzyVB",
        "OlLkJSyhMvfc",
        "D9zFLE74sHg_",
        "lSjkyN96G-h8",
        "gkWEqSPoUIL3",
        "jP4BGtimY9PY",
        "d7A1SDkuZIPE"
      ],
      "include_colab_link": true
    },
    "kernelspec": {
      "display_name": "Python 3",
      "name": "python3"
    },
    "language_info": {
      "codemirror_mode": {
        "name": "ipython",
        "version": 3
      },
      "file_extension": ".py",
      "mimetype": "text/x-python",
      "name": "python",
      "nbconvert_exporter": "python",
      "pygments_lexer": "ipython3",
      "version": "3.8.16"
    },
    "accelerator": "GPU",
    "widgets": {
      "application/vnd.jupyter.widget-state+json": {
        "b3efd95a1ac34920bef8ab82789cf9b8": {
          "model_module": "@jupyter-widgets/controls",
          "model_name": "HBoxModel",
          "model_module_version": "1.5.0",
          "state": {
            "_dom_classes": [],
            "_model_module": "@jupyter-widgets/controls",
            "_model_module_version": "1.5.0",
            "_model_name": "HBoxModel",
            "_view_count": null,
            "_view_module": "@jupyter-widgets/controls",
            "_view_module_version": "1.5.0",
            "_view_name": "HBoxView",
            "box_style": "",
            "children": [
              "IPY_MODEL_95393f9791134a9e99b6621d370d7e3f",
              "IPY_MODEL_2b2a89f7f53a4a869a4957d62644e398",
              "IPY_MODEL_826c17418283465ebbfe74a6ffdc4ad4"
            ],
            "layout": "IPY_MODEL_d5185278f2e0479d8770823d54252561"
          }
        },
        "95393f9791134a9e99b6621d370d7e3f": {
          "model_module": "@jupyter-widgets/controls",
          "model_name": "HTMLModel",
          "model_module_version": "1.5.0",
          "state": {
            "_dom_classes": [],
            "_model_module": "@jupyter-widgets/controls",
            "_model_module_version": "1.5.0",
            "_model_name": "HTMLModel",
            "_view_count": null,
            "_view_module": "@jupyter-widgets/controls",
            "_view_module_version": "1.5.0",
            "_view_name": "HTMLView",
            "description": "",
            "description_tooltip": null,
            "layout": "IPY_MODEL_7a8d111d25d84978a414faba587fcf5c",
            "placeholder": "​",
            "style": "IPY_MODEL_e9a5dded82664648b2ec1a0b4094a76b",
            "value": "100%"
          }
        },
        "2b2a89f7f53a4a869a4957d62644e398": {
          "model_module": "@jupyter-widgets/controls",
          "model_name": "FloatProgressModel",
          "model_module_version": "1.5.0",
          "state": {
            "_dom_classes": [],
            "_model_module": "@jupyter-widgets/controls",
            "_model_module_version": "1.5.0",
            "_model_name": "FloatProgressModel",
            "_view_count": null,
            "_view_module": "@jupyter-widgets/controls",
            "_view_module_version": "1.5.0",
            "_view_name": "ProgressView",
            "bar_style": "success",
            "description": "",
            "description_tooltip": null,
            "layout": "IPY_MODEL_89a809435b394c4e929ceab71d518c0e",
            "max": 20,
            "min": 0,
            "orientation": "horizontal",
            "style": "IPY_MODEL_556023f2d9d44472ac1878d74e56c33c",
            "value": 20
          }
        },
        "826c17418283465ebbfe74a6ffdc4ad4": {
          "model_module": "@jupyter-widgets/controls",
          "model_name": "HTMLModel",
          "model_module_version": "1.5.0",
          "state": {
            "_dom_classes": [],
            "_model_module": "@jupyter-widgets/controls",
            "_model_module_version": "1.5.0",
            "_model_name": "HTMLModel",
            "_view_count": null,
            "_view_module": "@jupyter-widgets/controls",
            "_view_module_version": "1.5.0",
            "_view_name": "HTMLView",
            "description": "",
            "description_tooltip": null,
            "layout": "IPY_MODEL_a8370b0c6ae74bb88a63ad5917c101a4",
            "placeholder": "​",
            "style": "IPY_MODEL_dc5a20e048c24e9f978da0a320005b22",
            "value": " 20/20 [04:59&lt;00:00, 14.90s/it]"
          }
        },
        "d5185278f2e0479d8770823d54252561": {
          "model_module": "@jupyter-widgets/base",
          "model_name": "LayoutModel",
          "model_module_version": "1.2.0",
          "state": {
            "_model_module": "@jupyter-widgets/base",
            "_model_module_version": "1.2.0",
            "_model_name": "LayoutModel",
            "_view_count": null,
            "_view_module": "@jupyter-widgets/base",
            "_view_module_version": "1.2.0",
            "_view_name": "LayoutView",
            "align_content": null,
            "align_items": null,
            "align_self": null,
            "border": null,
            "bottom": null,
            "display": null,
            "flex": null,
            "flex_flow": null,
            "grid_area": null,
            "grid_auto_columns": null,
            "grid_auto_flow": null,
            "grid_auto_rows": null,
            "grid_column": null,
            "grid_gap": null,
            "grid_row": null,
            "grid_template_areas": null,
            "grid_template_columns": null,
            "grid_template_rows": null,
            "height": null,
            "justify_content": null,
            "justify_items": null,
            "left": null,
            "margin": null,
            "max_height": null,
            "max_width": null,
            "min_height": null,
            "min_width": null,
            "object_fit": null,
            "object_position": null,
            "order": null,
            "overflow": null,
            "overflow_x": null,
            "overflow_y": null,
            "padding": null,
            "right": null,
            "top": null,
            "visibility": null,
            "width": null
          }
        },
        "7a8d111d25d84978a414faba587fcf5c": {
          "model_module": "@jupyter-widgets/base",
          "model_name": "LayoutModel",
          "model_module_version": "1.2.0",
          "state": {
            "_model_module": "@jupyter-widgets/base",
            "_model_module_version": "1.2.0",
            "_model_name": "LayoutModel",
            "_view_count": null,
            "_view_module": "@jupyter-widgets/base",
            "_view_module_version": "1.2.0",
            "_view_name": "LayoutView",
            "align_content": null,
            "align_items": null,
            "align_self": null,
            "border": null,
            "bottom": null,
            "display": null,
            "flex": null,
            "flex_flow": null,
            "grid_area": null,
            "grid_auto_columns": null,
            "grid_auto_flow": null,
            "grid_auto_rows": null,
            "grid_column": null,
            "grid_gap": null,
            "grid_row": null,
            "grid_template_areas": null,
            "grid_template_columns": null,
            "grid_template_rows": null,
            "height": null,
            "justify_content": null,
            "justify_items": null,
            "left": null,
            "margin": null,
            "max_height": null,
            "max_width": null,
            "min_height": null,
            "min_width": null,
            "object_fit": null,
            "object_position": null,
            "order": null,
            "overflow": null,
            "overflow_x": null,
            "overflow_y": null,
            "padding": null,
            "right": null,
            "top": null,
            "visibility": null,
            "width": null
          }
        },
        "e9a5dded82664648b2ec1a0b4094a76b": {
          "model_module": "@jupyter-widgets/controls",
          "model_name": "DescriptionStyleModel",
          "model_module_version": "1.5.0",
          "state": {
            "_model_module": "@jupyter-widgets/controls",
            "_model_module_version": "1.5.0",
            "_model_name": "DescriptionStyleModel",
            "_view_count": null,
            "_view_module": "@jupyter-widgets/base",
            "_view_module_version": "1.2.0",
            "_view_name": "StyleView",
            "description_width": ""
          }
        },
        "89a809435b394c4e929ceab71d518c0e": {
          "model_module": "@jupyter-widgets/base",
          "model_name": "LayoutModel",
          "model_module_version": "1.2.0",
          "state": {
            "_model_module": "@jupyter-widgets/base",
            "_model_module_version": "1.2.0",
            "_model_name": "LayoutModel",
            "_view_count": null,
            "_view_module": "@jupyter-widgets/base",
            "_view_module_version": "1.2.0",
            "_view_name": "LayoutView",
            "align_content": null,
            "align_items": null,
            "align_self": null,
            "border": null,
            "bottom": null,
            "display": null,
            "flex": null,
            "flex_flow": null,
            "grid_area": null,
            "grid_auto_columns": null,
            "grid_auto_flow": null,
            "grid_auto_rows": null,
            "grid_column": null,
            "grid_gap": null,
            "grid_row": null,
            "grid_template_areas": null,
            "grid_template_columns": null,
            "grid_template_rows": null,
            "height": null,
            "justify_content": null,
            "justify_items": null,
            "left": null,
            "margin": null,
            "max_height": null,
            "max_width": null,
            "min_height": null,
            "min_width": null,
            "object_fit": null,
            "object_position": null,
            "order": null,
            "overflow": null,
            "overflow_x": null,
            "overflow_y": null,
            "padding": null,
            "right": null,
            "top": null,
            "visibility": null,
            "width": null
          }
        },
        "556023f2d9d44472ac1878d74e56c33c": {
          "model_module": "@jupyter-widgets/controls",
          "model_name": "ProgressStyleModel",
          "model_module_version": "1.5.0",
          "state": {
            "_model_module": "@jupyter-widgets/controls",
            "_model_module_version": "1.5.0",
            "_model_name": "ProgressStyleModel",
            "_view_count": null,
            "_view_module": "@jupyter-widgets/base",
            "_view_module_version": "1.2.0",
            "_view_name": "StyleView",
            "bar_color": null,
            "description_width": ""
          }
        },
        "a8370b0c6ae74bb88a63ad5917c101a4": {
          "model_module": "@jupyter-widgets/base",
          "model_name": "LayoutModel",
          "model_module_version": "1.2.0",
          "state": {
            "_model_module": "@jupyter-widgets/base",
            "_model_module_version": "1.2.0",
            "_model_name": "LayoutModel",
            "_view_count": null,
            "_view_module": "@jupyter-widgets/base",
            "_view_module_version": "1.2.0",
            "_view_name": "LayoutView",
            "align_content": null,
            "align_items": null,
            "align_self": null,
            "border": null,
            "bottom": null,
            "display": null,
            "flex": null,
            "flex_flow": null,
            "grid_area": null,
            "grid_auto_columns": null,
            "grid_auto_flow": null,
            "grid_auto_rows": null,
            "grid_column": null,
            "grid_gap": null,
            "grid_row": null,
            "grid_template_areas": null,
            "grid_template_columns": null,
            "grid_template_rows": null,
            "height": null,
            "justify_content": null,
            "justify_items": null,
            "left": null,
            "margin": null,
            "max_height": null,
            "max_width": null,
            "min_height": null,
            "min_width": null,
            "object_fit": null,
            "object_position": null,
            "order": null,
            "overflow": null,
            "overflow_x": null,
            "overflow_y": null,
            "padding": null,
            "right": null,
            "top": null,
            "visibility": null,
            "width": null
          }
        },
        "dc5a20e048c24e9f978da0a320005b22": {
          "model_module": "@jupyter-widgets/controls",
          "model_name": "DescriptionStyleModel",
          "model_module_version": "1.5.0",
          "state": {
            "_model_module": "@jupyter-widgets/controls",
            "_model_module_version": "1.5.0",
            "_model_name": "DescriptionStyleModel",
            "_view_count": null,
            "_view_module": "@jupyter-widgets/base",
            "_view_module_version": "1.2.0",
            "_view_name": "StyleView",
            "description_width": ""
          }
        },
        "c6a0875ee58b400c8861cd496d73b0b2": {
          "model_module": "@jupyter-widgets/controls",
          "model_name": "HBoxModel",
          "model_module_version": "1.5.0",
          "state": {
            "_dom_classes": [],
            "_model_module": "@jupyter-widgets/controls",
            "_model_module_version": "1.5.0",
            "_model_name": "HBoxModel",
            "_view_count": null,
            "_view_module": "@jupyter-widgets/controls",
            "_view_module_version": "1.5.0",
            "_view_name": "HBoxView",
            "box_style": "",
            "children": [
              "IPY_MODEL_b298b0325f1c40a8a64b0e7a719987c0",
              "IPY_MODEL_b17c6317e4cb457b95834d75969196cc",
              "IPY_MODEL_1205fec067924d63917a95f3fdb9b1dd"
            ],
            "layout": "IPY_MODEL_18ac5eee75ad485ea7665aef98da5012"
          }
        },
        "b298b0325f1c40a8a64b0e7a719987c0": {
          "model_module": "@jupyter-widgets/controls",
          "model_name": "HTMLModel",
          "model_module_version": "1.5.0",
          "state": {
            "_dom_classes": [],
            "_model_module": "@jupyter-widgets/controls",
            "_model_module_version": "1.5.0",
            "_model_name": "HTMLModel",
            "_view_count": null,
            "_view_module": "@jupyter-widgets/controls",
            "_view_module_version": "1.5.0",
            "_view_name": "HTMLView",
            "description": "",
            "description_tooltip": null,
            "layout": "IPY_MODEL_28eff94871884bdca10cb70e2d467115",
            "placeholder": "​",
            "style": "IPY_MODEL_c12561167224468388986d8dbed70eac",
            "value": "Epoch:   0%"
          }
        },
        "b17c6317e4cb457b95834d75969196cc": {
          "model_module": "@jupyter-widgets/controls",
          "model_name": "FloatProgressModel",
          "model_module_version": "1.5.0",
          "state": {
            "_dom_classes": [],
            "_model_module": "@jupyter-widgets/controls",
            "_model_module_version": "1.5.0",
            "_model_name": "FloatProgressModel",
            "_view_count": null,
            "_view_module": "@jupyter-widgets/controls",
            "_view_module_version": "1.5.0",
            "_view_name": "ProgressView",
            "bar_style": "danger",
            "description": "",
            "description_tooltip": null,
            "layout": "IPY_MODEL_84faf8c31f17438cae1125bce3aaebfe",
            "max": 20,
            "min": 0,
            "orientation": "horizontal",
            "style": "IPY_MODEL_2b1e4fe26e9346bdaf20d6b65e6135be",
            "value": 0
          }
        },
        "1205fec067924d63917a95f3fdb9b1dd": {
          "model_module": "@jupyter-widgets/controls",
          "model_name": "HTMLModel",
          "model_module_version": "1.5.0",
          "state": {
            "_dom_classes": [],
            "_model_module": "@jupyter-widgets/controls",
            "_model_module_version": "1.5.0",
            "_model_name": "HTMLModel",
            "_view_count": null,
            "_view_module": "@jupyter-widgets/controls",
            "_view_module_version": "1.5.0",
            "_view_name": "HTMLView",
            "description": "",
            "description_tooltip": null,
            "layout": "IPY_MODEL_22f393e02cd0486d962cdc7ba2902907",
            "placeholder": "​",
            "style": "IPY_MODEL_f8685c19934c4adcab73dcc6affd9404",
            "value": " 0/20 [13:29&lt;?, ?it/s]"
          }
        },
        "18ac5eee75ad485ea7665aef98da5012": {
          "model_module": "@jupyter-widgets/base",
          "model_name": "LayoutModel",
          "model_module_version": "1.2.0",
          "state": {
            "_model_module": "@jupyter-widgets/base",
            "_model_module_version": "1.2.0",
            "_model_name": "LayoutModel",
            "_view_count": null,
            "_view_module": "@jupyter-widgets/base",
            "_view_module_version": "1.2.0",
            "_view_name": "LayoutView",
            "align_content": null,
            "align_items": null,
            "align_self": null,
            "border": null,
            "bottom": null,
            "display": null,
            "flex": null,
            "flex_flow": null,
            "grid_area": null,
            "grid_auto_columns": null,
            "grid_auto_flow": null,
            "grid_auto_rows": null,
            "grid_column": null,
            "grid_gap": null,
            "grid_row": null,
            "grid_template_areas": null,
            "grid_template_columns": null,
            "grid_template_rows": null,
            "height": null,
            "justify_content": null,
            "justify_items": null,
            "left": null,
            "margin": null,
            "max_height": null,
            "max_width": null,
            "min_height": null,
            "min_width": null,
            "object_fit": null,
            "object_position": null,
            "order": null,
            "overflow": null,
            "overflow_x": null,
            "overflow_y": null,
            "padding": null,
            "right": null,
            "top": null,
            "visibility": null,
            "width": null
          }
        },
        "28eff94871884bdca10cb70e2d467115": {
          "model_module": "@jupyter-widgets/base",
          "model_name": "LayoutModel",
          "model_module_version": "1.2.0",
          "state": {
            "_model_module": "@jupyter-widgets/base",
            "_model_module_version": "1.2.0",
            "_model_name": "LayoutModel",
            "_view_count": null,
            "_view_module": "@jupyter-widgets/base",
            "_view_module_version": "1.2.0",
            "_view_name": "LayoutView",
            "align_content": null,
            "align_items": null,
            "align_self": null,
            "border": null,
            "bottom": null,
            "display": null,
            "flex": null,
            "flex_flow": null,
            "grid_area": null,
            "grid_auto_columns": null,
            "grid_auto_flow": null,
            "grid_auto_rows": null,
            "grid_column": null,
            "grid_gap": null,
            "grid_row": null,
            "grid_template_areas": null,
            "grid_template_columns": null,
            "grid_template_rows": null,
            "height": null,
            "justify_content": null,
            "justify_items": null,
            "left": null,
            "margin": null,
            "max_height": null,
            "max_width": null,
            "min_height": null,
            "min_width": null,
            "object_fit": null,
            "object_position": null,
            "order": null,
            "overflow": null,
            "overflow_x": null,
            "overflow_y": null,
            "padding": null,
            "right": null,
            "top": null,
            "visibility": null,
            "width": null
          }
        },
        "c12561167224468388986d8dbed70eac": {
          "model_module": "@jupyter-widgets/controls",
          "model_name": "DescriptionStyleModel",
          "model_module_version": "1.5.0",
          "state": {
            "_model_module": "@jupyter-widgets/controls",
            "_model_module_version": "1.5.0",
            "_model_name": "DescriptionStyleModel",
            "_view_count": null,
            "_view_module": "@jupyter-widgets/base",
            "_view_module_version": "1.2.0",
            "_view_name": "StyleView",
            "description_width": ""
          }
        },
        "84faf8c31f17438cae1125bce3aaebfe": {
          "model_module": "@jupyter-widgets/base",
          "model_name": "LayoutModel",
          "model_module_version": "1.2.0",
          "state": {
            "_model_module": "@jupyter-widgets/base",
            "_model_module_version": "1.2.0",
            "_model_name": "LayoutModel",
            "_view_count": null,
            "_view_module": "@jupyter-widgets/base",
            "_view_module_version": "1.2.0",
            "_view_name": "LayoutView",
            "align_content": null,
            "align_items": null,
            "align_self": null,
            "border": null,
            "bottom": null,
            "display": null,
            "flex": null,
            "flex_flow": null,
            "grid_area": null,
            "grid_auto_columns": null,
            "grid_auto_flow": null,
            "grid_auto_rows": null,
            "grid_column": null,
            "grid_gap": null,
            "grid_row": null,
            "grid_template_areas": null,
            "grid_template_columns": null,
            "grid_template_rows": null,
            "height": null,
            "justify_content": null,
            "justify_items": null,
            "left": null,
            "margin": null,
            "max_height": null,
            "max_width": null,
            "min_height": null,
            "min_width": null,
            "object_fit": null,
            "object_position": null,
            "order": null,
            "overflow": null,
            "overflow_x": null,
            "overflow_y": null,
            "padding": null,
            "right": null,
            "top": null,
            "visibility": null,
            "width": null
          }
        },
        "2b1e4fe26e9346bdaf20d6b65e6135be": {
          "model_module": "@jupyter-widgets/controls",
          "model_name": "ProgressStyleModel",
          "model_module_version": "1.5.0",
          "state": {
            "_model_module": "@jupyter-widgets/controls",
            "_model_module_version": "1.5.0",
            "_model_name": "ProgressStyleModel",
            "_view_count": null,
            "_view_module": "@jupyter-widgets/base",
            "_view_module_version": "1.2.0",
            "_view_name": "StyleView",
            "bar_color": null,
            "description_width": ""
          }
        },
        "22f393e02cd0486d962cdc7ba2902907": {
          "model_module": "@jupyter-widgets/base",
          "model_name": "LayoutModel",
          "model_module_version": "1.2.0",
          "state": {
            "_model_module": "@jupyter-widgets/base",
            "_model_module_version": "1.2.0",
            "_model_name": "LayoutModel",
            "_view_count": null,
            "_view_module": "@jupyter-widgets/base",
            "_view_module_version": "1.2.0",
            "_view_name": "LayoutView",
            "align_content": null,
            "align_items": null,
            "align_self": null,
            "border": null,
            "bottom": null,
            "display": null,
            "flex": null,
            "flex_flow": null,
            "grid_area": null,
            "grid_auto_columns": null,
            "grid_auto_flow": null,
            "grid_auto_rows": null,
            "grid_column": null,
            "grid_gap": null,
            "grid_row": null,
            "grid_template_areas": null,
            "grid_template_columns": null,
            "grid_template_rows": null,
            "height": null,
            "justify_content": null,
            "justify_items": null,
            "left": null,
            "margin": null,
            "max_height": null,
            "max_width": null,
            "min_height": null,
            "min_width": null,
            "object_fit": null,
            "object_position": null,
            "order": null,
            "overflow": null,
            "overflow_x": null,
            "overflow_y": null,
            "padding": null,
            "right": null,
            "top": null,
            "visibility": null,
            "width": null
          }
        },
        "f8685c19934c4adcab73dcc6affd9404": {
          "model_module": "@jupyter-widgets/controls",
          "model_name": "DescriptionStyleModel",
          "model_module_version": "1.5.0",
          "state": {
            "_model_module": "@jupyter-widgets/controls",
            "_model_module_version": "1.5.0",
            "_model_name": "DescriptionStyleModel",
            "_view_count": null,
            "_view_module": "@jupyter-widgets/base",
            "_view_module_version": "1.2.0",
            "_view_name": "StyleView",
            "description_width": ""
          }
        },
        "4b21f49fff26453d8c0b715d3d136b4e": {
          "model_module": "@jupyter-widgets/controls",
          "model_name": "HBoxModel",
          "model_module_version": "1.5.0",
          "state": {
            "_dom_classes": [],
            "_model_module": "@jupyter-widgets/controls",
            "_model_module_version": "1.5.0",
            "_model_name": "HBoxModel",
            "_view_count": null,
            "_view_module": "@jupyter-widgets/controls",
            "_view_module_version": "1.5.0",
            "_view_name": "HBoxView",
            "box_style": "",
            "children": [
              "IPY_MODEL_6771728993c0483689fd1422e93d3e6e",
              "IPY_MODEL_cd19f98567fb4ebc86b50564145e0b5d",
              "IPY_MODEL_107a9f70974d4a98be2d60d8b4ac8655"
            ],
            "layout": "IPY_MODEL_f4c8cca1ec764ef8b1cca1ceaa6ca1cb"
          }
        },
        "6771728993c0483689fd1422e93d3e6e": {
          "model_module": "@jupyter-widgets/controls",
          "model_name": "HTMLModel",
          "model_module_version": "1.5.0",
          "state": {
            "_dom_classes": [],
            "_model_module": "@jupyter-widgets/controls",
            "_model_module_version": "1.5.0",
            "_model_name": "HTMLModel",
            "_view_count": null,
            "_view_module": "@jupyter-widgets/controls",
            "_view_module_version": "1.5.0",
            "_view_name": "HTMLView",
            "description": "",
            "description_tooltip": null,
            "layout": "IPY_MODEL_94fdcf83be4a42388b40249fccfb1851",
            "placeholder": "​",
            "style": "IPY_MODEL_08a113d6e31b47869adb19fc5c8df1bd",
            "value": "Epoch 1 (2/377) [lr: 1.000e-03]:   0%"
          }
        },
        "cd19f98567fb4ebc86b50564145e0b5d": {
          "model_module": "@jupyter-widgets/controls",
          "model_name": "FloatProgressModel",
          "model_module_version": "1.5.0",
          "state": {
            "_dom_classes": [],
            "_model_module": "@jupyter-widgets/controls",
            "_model_module_version": "1.5.0",
            "_model_name": "FloatProgressModel",
            "_view_count": null,
            "_view_module": "@jupyter-widgets/controls",
            "_view_module_version": "1.5.0",
            "_view_name": "ProgressView",
            "bar_style": "danger",
            "description": "",
            "description_tooltip": null,
            "layout": "IPY_MODEL_47927b4110af4c06bf38158bdc82879e",
            "max": 20,
            "min": 0,
            "orientation": "horizontal",
            "style": "IPY_MODEL_b936ff87c0324e39a5af227d8fede333",
            "value": 0
          }
        },
        "107a9f70974d4a98be2d60d8b4ac8655": {
          "model_module": "@jupyter-widgets/controls",
          "model_name": "HTMLModel",
          "model_module_version": "1.5.0",
          "state": {
            "_dom_classes": [],
            "_model_module": "@jupyter-widgets/controls",
            "_model_module_version": "1.5.0",
            "_model_name": "HTMLModel",
            "_view_count": null,
            "_view_module": "@jupyter-widgets/controls",
            "_view_module_version": "1.5.0",
            "_view_name": "HTMLView",
            "description": "",
            "description_tooltip": null,
            "layout": "IPY_MODEL_3e29be4fcc4d4a0cbd56b2803ca6d4c3",
            "placeholder": "​",
            "style": "IPY_MODEL_d5a8da4243dc475c9a9fe9d109766ac4",
            "value": " 0/20 [00:04&lt;?, ?it/s]"
          }
        },
        "f4c8cca1ec764ef8b1cca1ceaa6ca1cb": {
          "model_module": "@jupyter-widgets/base",
          "model_name": "LayoutModel",
          "model_module_version": "1.2.0",
          "state": {
            "_model_module": "@jupyter-widgets/base",
            "_model_module_version": "1.2.0",
            "_model_name": "LayoutModel",
            "_view_count": null,
            "_view_module": "@jupyter-widgets/base",
            "_view_module_version": "1.2.0",
            "_view_name": "LayoutView",
            "align_content": null,
            "align_items": null,
            "align_self": null,
            "border": null,
            "bottom": null,
            "display": null,
            "flex": null,
            "flex_flow": null,
            "grid_area": null,
            "grid_auto_columns": null,
            "grid_auto_flow": null,
            "grid_auto_rows": null,
            "grid_column": null,
            "grid_gap": null,
            "grid_row": null,
            "grid_template_areas": null,
            "grid_template_columns": null,
            "grid_template_rows": null,
            "height": null,
            "justify_content": null,
            "justify_items": null,
            "left": null,
            "margin": null,
            "max_height": null,
            "max_width": null,
            "min_height": null,
            "min_width": null,
            "object_fit": null,
            "object_position": null,
            "order": null,
            "overflow": null,
            "overflow_x": null,
            "overflow_y": null,
            "padding": null,
            "right": null,
            "top": null,
            "visibility": null,
            "width": null
          }
        },
        "94fdcf83be4a42388b40249fccfb1851": {
          "model_module": "@jupyter-widgets/base",
          "model_name": "LayoutModel",
          "model_module_version": "1.2.0",
          "state": {
            "_model_module": "@jupyter-widgets/base",
            "_model_module_version": "1.2.0",
            "_model_name": "LayoutModel",
            "_view_count": null,
            "_view_module": "@jupyter-widgets/base",
            "_view_module_version": "1.2.0",
            "_view_name": "LayoutView",
            "align_content": null,
            "align_items": null,
            "align_self": null,
            "border": null,
            "bottom": null,
            "display": null,
            "flex": null,
            "flex_flow": null,
            "grid_area": null,
            "grid_auto_columns": null,
            "grid_auto_flow": null,
            "grid_auto_rows": null,
            "grid_column": null,
            "grid_gap": null,
            "grid_row": null,
            "grid_template_areas": null,
            "grid_template_columns": null,
            "grid_template_rows": null,
            "height": null,
            "justify_content": null,
            "justify_items": null,
            "left": null,
            "margin": null,
            "max_height": null,
            "max_width": null,
            "min_height": null,
            "min_width": null,
            "object_fit": null,
            "object_position": null,
            "order": null,
            "overflow": null,
            "overflow_x": null,
            "overflow_y": null,
            "padding": null,
            "right": null,
            "top": null,
            "visibility": null,
            "width": null
          }
        },
        "08a113d6e31b47869adb19fc5c8df1bd": {
          "model_module": "@jupyter-widgets/controls",
          "model_name": "DescriptionStyleModel",
          "model_module_version": "1.5.0",
          "state": {
            "_model_module": "@jupyter-widgets/controls",
            "_model_module_version": "1.5.0",
            "_model_name": "DescriptionStyleModel",
            "_view_count": null,
            "_view_module": "@jupyter-widgets/base",
            "_view_module_version": "1.2.0",
            "_view_name": "StyleView",
            "description_width": ""
          }
        },
        "47927b4110af4c06bf38158bdc82879e": {
          "model_module": "@jupyter-widgets/base",
          "model_name": "LayoutModel",
          "model_module_version": "1.2.0",
          "state": {
            "_model_module": "@jupyter-widgets/base",
            "_model_module_version": "1.2.0",
            "_model_name": "LayoutModel",
            "_view_count": null,
            "_view_module": "@jupyter-widgets/base",
            "_view_module_version": "1.2.0",
            "_view_name": "LayoutView",
            "align_content": null,
            "align_items": null,
            "align_self": null,
            "border": null,
            "bottom": null,
            "display": null,
            "flex": null,
            "flex_flow": null,
            "grid_area": null,
            "grid_auto_columns": null,
            "grid_auto_flow": null,
            "grid_auto_rows": null,
            "grid_column": null,
            "grid_gap": null,
            "grid_row": null,
            "grid_template_areas": null,
            "grid_template_columns": null,
            "grid_template_rows": null,
            "height": null,
            "justify_content": null,
            "justify_items": null,
            "left": null,
            "margin": null,
            "max_height": null,
            "max_width": null,
            "min_height": null,
            "min_width": null,
            "object_fit": null,
            "object_position": null,
            "order": null,
            "overflow": null,
            "overflow_x": null,
            "overflow_y": null,
            "padding": null,
            "right": null,
            "top": null,
            "visibility": null,
            "width": null
          }
        },
        "b936ff87c0324e39a5af227d8fede333": {
          "model_module": "@jupyter-widgets/controls",
          "model_name": "ProgressStyleModel",
          "model_module_version": "1.5.0",
          "state": {
            "_model_module": "@jupyter-widgets/controls",
            "_model_module_version": "1.5.0",
            "_model_name": "ProgressStyleModel",
            "_view_count": null,
            "_view_module": "@jupyter-widgets/base",
            "_view_module_version": "1.2.0",
            "_view_name": "StyleView",
            "bar_color": null,
            "description_width": ""
          }
        },
        "3e29be4fcc4d4a0cbd56b2803ca6d4c3": {
          "model_module": "@jupyter-widgets/base",
          "model_name": "LayoutModel",
          "model_module_version": "1.2.0",
          "state": {
            "_model_module": "@jupyter-widgets/base",
            "_model_module_version": "1.2.0",
            "_model_name": "LayoutModel",
            "_view_count": null,
            "_view_module": "@jupyter-widgets/base",
            "_view_module_version": "1.2.0",
            "_view_name": "LayoutView",
            "align_content": null,
            "align_items": null,
            "align_self": null,
            "border": null,
            "bottom": null,
            "display": null,
            "flex": null,
            "flex_flow": null,
            "grid_area": null,
            "grid_auto_columns": null,
            "grid_auto_flow": null,
            "grid_auto_rows": null,
            "grid_column": null,
            "grid_gap": null,
            "grid_row": null,
            "grid_template_areas": null,
            "grid_template_columns": null,
            "grid_template_rows": null,
            "height": null,
            "justify_content": null,
            "justify_items": null,
            "left": null,
            "margin": null,
            "max_height": null,
            "max_width": null,
            "min_height": null,
            "min_width": null,
            "object_fit": null,
            "object_position": null,
            "order": null,
            "overflow": null,
            "overflow_x": null,
            "overflow_y": null,
            "padding": null,
            "right": null,
            "top": null,
            "visibility": null,
            "width": null
          }
        },
        "d5a8da4243dc475c9a9fe9d109766ac4": {
          "model_module": "@jupyter-widgets/controls",
          "model_name": "DescriptionStyleModel",
          "model_module_version": "1.5.0",
          "state": {
            "_model_module": "@jupyter-widgets/controls",
            "_model_module_version": "1.5.0",
            "_model_name": "DescriptionStyleModel",
            "_view_count": null,
            "_view_module": "@jupyter-widgets/base",
            "_view_module_version": "1.2.0",
            "_view_name": "StyleView",
            "description_width": ""
          }
        },
        "afaf29eb8a354c8a9e5a1436029330cc": {
          "model_module": "@jupyter-widgets/controls",
          "model_name": "HBoxModel",
          "model_module_version": "1.5.0",
          "state": {
            "_dom_classes": [],
            "_model_module": "@jupyter-widgets/controls",
            "_model_module_version": "1.5.0",
            "_model_name": "HBoxModel",
            "_view_count": null,
            "_view_module": "@jupyter-widgets/controls",
            "_view_module_version": "1.5.0",
            "_view_name": "HBoxView",
            "box_style": "",
            "children": [
              "IPY_MODEL_fcb603ab27064419ad0800698e3f9fb0",
              "IPY_MODEL_ea015c81c3494c57a821ce235fc15e2a",
              "IPY_MODEL_4361db7fd2a744c184066097a387a4ce"
            ],
            "layout": "IPY_MODEL_cf523febb51c4dd88fbf7e1644d83733"
          }
        },
        "fcb603ab27064419ad0800698e3f9fb0": {
          "model_module": "@jupyter-widgets/controls",
          "model_name": "HTMLModel",
          "model_module_version": "1.5.0",
          "state": {
            "_dom_classes": [],
            "_model_module": "@jupyter-widgets/controls",
            "_model_module_version": "1.5.0",
            "_model_name": "HTMLModel",
            "_view_count": null,
            "_view_module": "@jupyter-widgets/controls",
            "_view_module_version": "1.5.0",
            "_view_name": "HTMLView",
            "description": "",
            "description_tooltip": null,
            "layout": "IPY_MODEL_cdbb96c85f2e4d9a82e72c60237d5413",
            "placeholder": "​",
            "style": "IPY_MODEL_5a0ab5b99c7e47ab90b5e4402b2abf85",
            "value": "Epoch:   0%"
          }
        },
        "ea015c81c3494c57a821ce235fc15e2a": {
          "model_module": "@jupyter-widgets/controls",
          "model_name": "FloatProgressModel",
          "model_module_version": "1.5.0",
          "state": {
            "_dom_classes": [],
            "_model_module": "@jupyter-widgets/controls",
            "_model_module_version": "1.5.0",
            "_model_name": "FloatProgressModel",
            "_view_count": null,
            "_view_module": "@jupyter-widgets/controls",
            "_view_module_version": "1.5.0",
            "_view_name": "ProgressView",
            "bar_style": "",
            "description": "",
            "description_tooltip": null,
            "layout": "IPY_MODEL_2e7bd45c02794c83af7ac3fd4baf7ebf",
            "max": 20,
            "min": 0,
            "orientation": "horizontal",
            "style": "IPY_MODEL_ef0e28a4d0fc4172958983b5ff031cbf",
            "value": 0
          }
        },
        "4361db7fd2a744c184066097a387a4ce": {
          "model_module": "@jupyter-widgets/controls",
          "model_name": "HTMLModel",
          "model_module_version": "1.5.0",
          "state": {
            "_dom_classes": [],
            "_model_module": "@jupyter-widgets/controls",
            "_model_module_version": "1.5.0",
            "_model_name": "HTMLModel",
            "_view_count": null,
            "_view_module": "@jupyter-widgets/controls",
            "_view_module_version": "1.5.0",
            "_view_name": "HTMLView",
            "description": "",
            "description_tooltip": null,
            "layout": "IPY_MODEL_c65e4c48d9314c9489cc3a4a941beadc",
            "placeholder": "​",
            "style": "IPY_MODEL_7ec4ae3802684f7187ffa1e854f8c3ea",
            "value": " 0/20 [00:00&lt;?, ?it/s]"
          }
        },
        "cf523febb51c4dd88fbf7e1644d83733": {
          "model_module": "@jupyter-widgets/base",
          "model_name": "LayoutModel",
          "model_module_version": "1.2.0",
          "state": {
            "_model_module": "@jupyter-widgets/base",
            "_model_module_version": "1.2.0",
            "_model_name": "LayoutModel",
            "_view_count": null,
            "_view_module": "@jupyter-widgets/base",
            "_view_module_version": "1.2.0",
            "_view_name": "LayoutView",
            "align_content": null,
            "align_items": null,
            "align_self": null,
            "border": null,
            "bottom": null,
            "display": null,
            "flex": null,
            "flex_flow": null,
            "grid_area": null,
            "grid_auto_columns": null,
            "grid_auto_flow": null,
            "grid_auto_rows": null,
            "grid_column": null,
            "grid_gap": null,
            "grid_row": null,
            "grid_template_areas": null,
            "grid_template_columns": null,
            "grid_template_rows": null,
            "height": null,
            "justify_content": null,
            "justify_items": null,
            "left": null,
            "margin": null,
            "max_height": null,
            "max_width": null,
            "min_height": null,
            "min_width": null,
            "object_fit": null,
            "object_position": null,
            "order": null,
            "overflow": null,
            "overflow_x": null,
            "overflow_y": null,
            "padding": null,
            "right": null,
            "top": null,
            "visibility": null,
            "width": null
          }
        },
        "cdbb96c85f2e4d9a82e72c60237d5413": {
          "model_module": "@jupyter-widgets/base",
          "model_name": "LayoutModel",
          "model_module_version": "1.2.0",
          "state": {
            "_model_module": "@jupyter-widgets/base",
            "_model_module_version": "1.2.0",
            "_model_name": "LayoutModel",
            "_view_count": null,
            "_view_module": "@jupyter-widgets/base",
            "_view_module_version": "1.2.0",
            "_view_name": "LayoutView",
            "align_content": null,
            "align_items": null,
            "align_self": null,
            "border": null,
            "bottom": null,
            "display": null,
            "flex": null,
            "flex_flow": null,
            "grid_area": null,
            "grid_auto_columns": null,
            "grid_auto_flow": null,
            "grid_auto_rows": null,
            "grid_column": null,
            "grid_gap": null,
            "grid_row": null,
            "grid_template_areas": null,
            "grid_template_columns": null,
            "grid_template_rows": null,
            "height": null,
            "justify_content": null,
            "justify_items": null,
            "left": null,
            "margin": null,
            "max_height": null,
            "max_width": null,
            "min_height": null,
            "min_width": null,
            "object_fit": null,
            "object_position": null,
            "order": null,
            "overflow": null,
            "overflow_x": null,
            "overflow_y": null,
            "padding": null,
            "right": null,
            "top": null,
            "visibility": null,
            "width": null
          }
        },
        "5a0ab5b99c7e47ab90b5e4402b2abf85": {
          "model_module": "@jupyter-widgets/controls",
          "model_name": "DescriptionStyleModel",
          "model_module_version": "1.5.0",
          "state": {
            "_model_module": "@jupyter-widgets/controls",
            "_model_module_version": "1.5.0",
            "_model_name": "DescriptionStyleModel",
            "_view_count": null,
            "_view_module": "@jupyter-widgets/base",
            "_view_module_version": "1.2.0",
            "_view_name": "StyleView",
            "description_width": ""
          }
        },
        "2e7bd45c02794c83af7ac3fd4baf7ebf": {
          "model_module": "@jupyter-widgets/base",
          "model_name": "LayoutModel",
          "model_module_version": "1.2.0",
          "state": {
            "_model_module": "@jupyter-widgets/base",
            "_model_module_version": "1.2.0",
            "_model_name": "LayoutModel",
            "_view_count": null,
            "_view_module": "@jupyter-widgets/base",
            "_view_module_version": "1.2.0",
            "_view_name": "LayoutView",
            "align_content": null,
            "align_items": null,
            "align_self": null,
            "border": null,
            "bottom": null,
            "display": null,
            "flex": null,
            "flex_flow": null,
            "grid_area": null,
            "grid_auto_columns": null,
            "grid_auto_flow": null,
            "grid_auto_rows": null,
            "grid_column": null,
            "grid_gap": null,
            "grid_row": null,
            "grid_template_areas": null,
            "grid_template_columns": null,
            "grid_template_rows": null,
            "height": null,
            "justify_content": null,
            "justify_items": null,
            "left": null,
            "margin": null,
            "max_height": null,
            "max_width": null,
            "min_height": null,
            "min_width": null,
            "object_fit": null,
            "object_position": null,
            "order": null,
            "overflow": null,
            "overflow_x": null,
            "overflow_y": null,
            "padding": null,
            "right": null,
            "top": null,
            "visibility": null,
            "width": null
          }
        },
        "ef0e28a4d0fc4172958983b5ff031cbf": {
          "model_module": "@jupyter-widgets/controls",
          "model_name": "ProgressStyleModel",
          "model_module_version": "1.5.0",
          "state": {
            "_model_module": "@jupyter-widgets/controls",
            "_model_module_version": "1.5.0",
            "_model_name": "ProgressStyleModel",
            "_view_count": null,
            "_view_module": "@jupyter-widgets/base",
            "_view_module_version": "1.2.0",
            "_view_name": "StyleView",
            "bar_color": null,
            "description_width": ""
          }
        },
        "c65e4c48d9314c9489cc3a4a941beadc": {
          "model_module": "@jupyter-widgets/base",
          "model_name": "LayoutModel",
          "model_module_version": "1.2.0",
          "state": {
            "_model_module": "@jupyter-widgets/base",
            "_model_module_version": "1.2.0",
            "_model_name": "LayoutModel",
            "_view_count": null,
            "_view_module": "@jupyter-widgets/base",
            "_view_module_version": "1.2.0",
            "_view_name": "LayoutView",
            "align_content": null,
            "align_items": null,
            "align_self": null,
            "border": null,
            "bottom": null,
            "display": null,
            "flex": null,
            "flex_flow": null,
            "grid_area": null,
            "grid_auto_columns": null,
            "grid_auto_flow": null,
            "grid_auto_rows": null,
            "grid_column": null,
            "grid_gap": null,
            "grid_row": null,
            "grid_template_areas": null,
            "grid_template_columns": null,
            "grid_template_rows": null,
            "height": null,
            "justify_content": null,
            "justify_items": null,
            "left": null,
            "margin": null,
            "max_height": null,
            "max_width": null,
            "min_height": null,
            "min_width": null,
            "object_fit": null,
            "object_position": null,
            "order": null,
            "overflow": null,
            "overflow_x": null,
            "overflow_y": null,
            "padding": null,
            "right": null,
            "top": null,
            "visibility": null,
            "width": null
          }
        },
        "7ec4ae3802684f7187ffa1e854f8c3ea": {
          "model_module": "@jupyter-widgets/controls",
          "model_name": "DescriptionStyleModel",
          "model_module_version": "1.5.0",
          "state": {
            "_model_module": "@jupyter-widgets/controls",
            "_model_module_version": "1.5.0",
            "_model_name": "DescriptionStyleModel",
            "_view_count": null,
            "_view_module": "@jupyter-widgets/base",
            "_view_module_version": "1.2.0",
            "_view_name": "StyleView",
            "description_width": ""
          }
        }
      }
    }
  },
  "nbformat": 4,
  "nbformat_minor": 0
}